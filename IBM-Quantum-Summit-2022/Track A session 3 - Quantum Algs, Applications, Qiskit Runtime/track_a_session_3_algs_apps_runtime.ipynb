{
 "cells": [
  {
   "cell_type": "markdown",
   "metadata": {
    "collapsed": true,
    "pycharm": {
     "name": "#%% md\n"
    },
    "rise": {
     "footer": "<h3>World!</h3>",
     "header": "<h1>Hello</h1>"
    },
    "slideshow": {
     "slide_type": "slide"
    }
   },
   "source": [
    "# Quantum Algorithms, Applications & Qiskit Runtime\n",
    "## *The aftermath of \"The Great Primitives Refactoring\"*\n",
    "Elena Peña Tapia (ept@zurich.ibm.com) & Max Rossmannek (oss@zurich.ibm.com)\n",
    "### Quantum Practitioners Forum 2022"
   ]
  },
  {
   "cell_type": "markdown",
   "metadata": {
    "slideshow": {
     "slide_type": "skip"
    }
   },
   "source": [
    "***"
   ]
  },
  {
   "cell_type": "markdown",
   "metadata": {
    "pycharm": {
     "name": "#%% md\n"
    },
    "slideshow": {
     "slide_type": "slide"
    }
   },
   "source": [
    "<a id='top'></a>\n",
    "## Our Agenda Today (90 min session):\n",
    "\n",
    "### 1. [Introduction](#intro)\n",
    "### 2. [Algorithms](#algos)\n",
    "### 3. [Applications: Machine Learning. Performance](#ml)\n",
    "### 4. [Applications: Nature. Performance](#nature)\n",
    "### 5. [Wrap-Up](#wrapup)"
   ]
  },
  {
   "cell_type": "markdown",
   "metadata": {
    "slideshow": {
     "slide_type": "skip"
    }
   },
   "source": [
    "***"
   ]
  },
  {
   "cell_type": "markdown",
   "metadata": {
    "pycharm": {
     "name": "#%% md\n"
    },
    "slideshow": {
     "slide_type": "slide"
    }
   },
   "source": [
    "<a id='intro'></a>\n",
    "# 1. Introduction\n",
    "<font color='gray'>2. Algorithms</font>  \n",
    "\n",
    "<font color='gray'>3. Applications: Machine Learning. Performance</font>  \n",
    "\n",
    "<font color='gray'>4. Applications: Nature. Performance</font>  \n",
    "\n",
    "<font color='gray'>5. Wrap-Up</font>"
   ]
  },
  {
   "cell_type": "markdown",
   "metadata": {
    "slideshow": {
     "slide_type": "skip"
    }
   },
   "source": [
    "[Top](#top)"
   ]
  },
  {
   "cell_type": "markdown",
   "metadata": {
    "slideshow": {
     "slide_type": "skip"
    }
   },
   "source": [
    "***"
   ]
  },
  {
   "cell_type": "markdown",
   "metadata": {
    "slideshow": {
     "slide_type": "slide"
    }
   },
   "source": [
    "<img src=\"imgs/roadmap.jpeg\" width = 1600 height=1600 />"
   ]
  },
  {
   "cell_type": "markdown",
   "metadata": {
    "slideshow": {
     "slide_type": "slide"
    }
   },
   "source": [
    "<img src=\"imgs/stack.png\" width = 1300 height=1300 />"
   ]
  },
  {
   "cell_type": "markdown",
   "metadata": {
    "slideshow": {
     "slide_type": "slide"
    }
   },
   "source": [
    "<img src=\"imgs/why.png\" width = 1500 height=1500 />"
   ]
  },
  {
   "cell_type": "markdown",
   "metadata": {
    "slideshow": {
     "slide_type": "slide"
    }
   },
   "source": [
    "<img src=\"imgs/primitives_zoo.png\" width = 1500 height=1500 />"
   ]
  },
  {
   "cell_type": "markdown",
   "metadata": {
    "slideshow": {
     "slide_type": "slide"
    }
   },
   "source": [
    "<a id='algos'></a>\n",
    "<font color='gray'> 1. Introduction</font> \n",
    "# 2. Algorithms\n",
    "\n",
    "<font color='gray'>3. Applications: Machine Learning. Performance</font>  \n",
    "\n",
    "<font color='gray'>4. Applications: Nature. Performance</font>  \n",
    "\n",
    "<font color='gray'>5. Wrap-Up</font>"
   ]
  },
  {
   "cell_type": "markdown",
   "metadata": {
    "slideshow": {
     "slide_type": "skip"
    }
   },
   "source": [
    "[Top](#top)"
   ]
  },
  {
   "cell_type": "markdown",
   "metadata": {
    "slideshow": {
     "slide_type": "slide"
    }
   },
   "source": [
    "\n",
    "<img src=\"imgs/zoo_before.png\" width = 1300 height=1300 />"
   ]
  },
  {
   "cell_type": "markdown",
   "metadata": {
    "slideshow": {
     "slide_type": "slide"
    }
   },
   "source": [
    "<img src=\"imgs/terra_changes.png\" width = 1300 height=1300 />"
   ]
  },
  {
   "cell_type": "markdown",
   "metadata": {
    "slideshow": {
     "slide_type": "slide"
    }
   },
   "source": [
    "<img src=\"imgs/zoo_after.png\" width = 1300 height=1300 />"
   ]
  },
  {
   "cell_type": "markdown",
   "metadata": {
    "slideshow": {
     "slide_type": "slide"
    }
   },
   "source": [
    "## Key takeaways:\n",
    "\n",
    "#   \n",
    "\n",
    "<img src=\"imgs/explore_1.png\" width = 1300 height=1300 />"
   ]
  },
  {
   "cell_type": "markdown",
   "metadata": {
    "slideshow": {
     "slide_type": "slide"
    }
   },
   "source": [
    "<img src=\"imgs/state_search.png\" width = 1300 height=1300 />"
   ]
  },
  {
   "cell_type": "markdown",
   "metadata": {
    "slideshow": {
     "slide_type": "slide"
    }
   },
   "source": [
    "## Key takeaways:\n",
    "\n",
    "#   \n",
    "<img src=\"imgs/explore_2.png\" width = 1300 height=1300 />"
   ]
  },
  {
   "cell_type": "markdown",
   "metadata": {
    "pycharm": {
     "name": "#%%\n"
    },
    "slideshow": {
     "slide_type": "slide"
    }
   },
   "source": [
    "<!-- ## Workflow 1: Ground State Search -->\n",
    "### QI vs. Estimator `VQE`, minimal example\n",
    "\n",
    "\n",
    "<table>\n",
    "<tr>\n",
    "<th style=\"text-align: center;\">QuantumInstance VQE</th>\n",
    "<th style=\"text-align: center;\">Estimator VQE</th>\n",
    "</tr>\n",
    "<tr>\n",
    "<td style=\"text-align: left;\">\n",
    "\n",
    "```python\n",
    "from qiskit.algorithms.minimum_eigen_solvers import VQE\n",
    "from qiskit.utils import QuantumInstance\n",
    "from qiskit import Aer\n",
    "\n",
    "qi = QuantumInstance(\n",
    "    backend=Aer.get_backend('statevector_simulator'))\n",
    "   \n",
    "vqe = VQE(ansatz, optimizer, quantum_instance=qi)\n",
    "result = vqe.compute_minimum_eigenvalue(hamiltonian)\n",
    "```\n",
    "</td>\n",
    "<td style=\"text-align: left;\">\n",
    "\n",
    "```python\n",
    "# note change of namespace\n",
    "from qiskit.algorithms.minimum_eigensolvers import VQE\n",
    "from qiskit.primitives import Estimator\n",
    "\n",
    "estimator = Estimator()\n",
    "    \n",
    "vqe = VQE(estimator, ansatz, optimizer)\n",
    "result = vqe.compute_minimum_eigenvalue(hamiltonian)\n",
    "```\n",
    "\n",
    "</td>\n",
    "</tr>\n",
    "</table>"
   ]
  },
  {
   "cell_type": "markdown",
   "metadata": {
    "pycharm": {
     "name": "#%%\n"
    },
    "slideshow": {
     "slide_type": "slide"
    }
   },
   "source": [
    "<!-- ## Workflow 1: Ground State Search -->\n",
    "### QI vs. Estimator `VQE`: advanced example\n",
    "\n",
    "<table>\n",
    "<tr>\n",
    "<th style=\"text-align: center; width:50%\">Quantum Instance VQE</th>\n",
    "<th style=\"text-align: center; width:50%\">Estimator VQE</th>\n",
    "</tr>\n",
    "<tr>\n",
    "<td style=\"text-align: left; width:50%\">\n",
    "\n",
    "```python\n",
    "from qiskit import IBMQ\n",
    "from qiskit.utils import QuantumInstance\n",
    "from qiskit.opflow.gradients import Gradient\n",
    "from qiskit.algorithms.minimum_eigen_solvers import VQE         \n",
    "\n",
    "# define provider\n",
    "IBMQ.load_account()\n",
    "provider = IBMQ.get_provider(project=\"default\")\n",
    "device = provider.get_backend(\"ibm_geneva\")\n",
    "```\n",
    "</td>\n",
    "<td style=\"vertical-align: top; text-align: left; width:50%\">\n",
    "\n",
    "```python\n",
    "from qiskit_ibm_runtime import QiskitRuntimeService, \\\n",
    "    Session, Estimator\n",
    "from qiskit.algorithms.gradients import \\ \n",
    "    FiniteDiffEstimatorGradient as FDEstimatorGrad\n",
    "from qiskit.algorithms.minimum_eigensolvers import VQE\n",
    "    \n",
    "# define service\n",
    "service = QiskitRuntimeService(channel=\"ibm_quantum\")\n",
    "```\n",
    "\n",
    "</td>\n",
    "</tr>\n",
    "</table>\n",
    "\n",
    "<table>\n",
    "<tr/>\n",
    "<tr>\n",
    "<td style=\"vertical-align: top; text-align: left; width:50%\">\n",
    "\n",
    "```python\n",
    "# define quantum instance\n",
    "qi = QuantumInstance(backend=device)\n",
    "    \n",
    "# define gradient\n",
    "gradient = Gradient(grad_method='fin_diff')\n",
    "\n",
    "# run VQE\n",
    "vqe = VQE(ansatz, optimizer,\n",
    "          gradient=gradient, initial_point=init_pt, \n",
    "          quantum_instance=qi)\n",
    "result = vqe.compute_minimum_eigenvalue(hamiltonian)\n",
    "```\n",
    "</td>\n",
    "<td style=\"vertical-align: top; text-align: left; width:50%\">\n",
    "\n",
    "```python\n",
    "# define session\n",
    "with Session(service=service, backend=\"ibm_geneva\") as session:\n",
    "    \n",
    "    # define estimator\n",
    "    estimator = Estimator(session=session)\n",
    "\n",
    "    # define gradient\n",
    "    gradient = FDEstimatorGrad(estimator, epsilon=0.1)\n",
    "\n",
    "    # run VQE\n",
    "    vqe = VQE(estimator, ansatz, optimizer, \n",
    "              gradient=gradient, initial_point=init_pt)\n",
    "    result = vqe.compute_minimum_eigenvalue(hamiltonian)\n",
    "```\n",
    "\n",
    "</td>\n",
    "</tr>\n",
    "</table>\n"
   ]
  },
  {
   "cell_type": "markdown",
   "metadata": {
    "slideshow": {
     "slide_type": "slide"
    }
   },
   "source": [
    "### New Gradient Framework"
   ]
  },
  {
   "cell_type": "code",
   "execution_count": 1,
   "metadata": {
    "slideshow": {
     "slide_type": "-"
    }
   },
   "outputs": [],
   "source": [
    "from qiskit.circuit.library import RealAmplitudes\n",
    "from qiskit.quantum_info import Operator\n",
    "\n",
    "qc = RealAmplitudes(num_qubits=2, reps=1)  # 4 parameters\n",
    "op = Operator.from_label(\"ZZ\")\n",
    "\n",
    "from qiskit.primitives import Estimator\n",
    "from qiskit.algorithms.gradients import ParamShiftEstimatorGradient as PSEstimatorGrad\n",
    "\n",
    "gradient = PSEstimatorGrad(estimator=Estimator())\n",
    "\n",
    "import numpy as np\n",
    "\n",
    "params = [np.pi / 4 for _ in qc.parameters]\n",
    "grad_job = gradient.run([qc], [op], [params])\n",
    "gradients = grad_job.result().gradients[0]"
   ]
  },
  {
   "cell_type": "code",
   "execution_count": 3,
   "metadata": {
    "slideshow": {
     "slide_type": "fragment"
    }
   },
   "outputs": [
    {
     "name": "stdout",
     "output_type": "stream",
     "text": [
      "[ 0.60355339 -0.60355339  0.25       -0.25      ]\n"
     ]
    }
   ],
   "source": [
    "print(gradients)"
   ]
  },
  {
   "cell_type": "code",
   "execution_count": 2,
   "metadata": {
    "slideshow": {
     "slide_type": "fragment"
    }
   },
   "outputs": [
    {
     "name": "stdout",
     "output_type": "stream",
     "text": [
      "EstimatorGradientResult(gradients=[array([ 0.60355339, -0.60355339,  0.25      , -0.25      ])], metadata=[{'parameters': [ParameterVectorElement(θ[0]), ParameterVectorElement(θ[1]), ParameterVectorElement(θ[2]), ParameterVectorElement(θ[3])]}], options=Options())\n"
     ]
    }
   ],
   "source": [
    "print(grad_job.result())"
   ]
  },
  {
   "cell_type": "markdown",
   "metadata": {
    "slideshow": {
     "slide_type": "slide"
    }
   },
   "source": [
    "Imports with new gradient framework:\n",
    "\n",
    "<table>\n",
    "<tr>\n",
    "<th style=\"text-align: center;\">Opflow Gradients</th>\n",
    "<th style=\"text-align: center;\">Primitive Gradients</th>\n",
    "</tr>\n",
    "<tr>\n",
    "<td style=\"text-align: left;\">\n",
    "\n",
    "```python\n",
    "\n",
    "from qiskit.opflow.gradients import Gradient\n",
    "\n",
    "gradient = Gradient(grad_method='fin_diff')\n",
    "gradient = Gradient(grad_method='lin_comb')\n",
    "gradient = Gradient(grad_method='param_shift')\n",
    "\n",
    "```\n",
    "</td>\n",
    "<td style=\"text-align: left;\">\n",
    "\n",
    "```python\n",
    "\n",
    "from qiskit.algorithms.gradients import \\\n",
    "    FiniteDiffEstimatorGradient \\\n",
    "    FiniteDiffSamplerGradient \\\n",
    "    LinCombEstimatorGradient \\\n",
    "    LinCombSamplerGradient \\\n",
    "    ParamShiftEstimatorGradient \\\n",
    "    ParamShiftSamplerGradient \\\n",
    "    SPSAEstimatorGradient \\\n",
    "    SPSASamplerGradient \\\n",
    "```\n",
    "</td>\n",
    "</tr>\n",
    "</table>"
   ]
  },
  {
   "cell_type": "markdown",
   "metadata": {
    "slideshow": {
     "slide_type": "slide"
    }
   },
   "source": [
    "### Case Study: `VQE`"
   ]
  },
  {
   "cell_type": "markdown",
   "metadata": {
    "slideshow": {
     "slide_type": "-"
    }
   },
   "source": [
    "#### Using `Estimator` for energy evaluation in `VQE`\n",
    "\n",
    "In `VQE.compute_minimum_eigenvalues()`:\n",
    "\n",
    "```python\n",
    "def compute_minimum_eigenvalues(operator):\n",
    "    ...\n",
    "    opt_result = self.optimizer.minimize(\n",
    "                     fun=evaluate_energy, x0=initial_point)\n",
    "    ...\n",
    "```\n",
    "```python\n",
    "def evaluate_energy(parameters):\n",
    "\n",
    "    estimator_job = self.estimator.run(\n",
    "                    circuits = [self.ansatz], observables=[operator], \n",
    "                    parameter_values=[parameters]\n",
    "                    )\n",
    "    estimator_result = estimator_job.result()\n",
    "    values = estimator_result.values\n",
    "                \n",
    "    return values[0]\n",
    "```"
   ]
  },
  {
   "cell_type": "code",
   "execution_count": 8,
   "metadata": {
    "slideshow": {
     "slide_type": "slide"
    }
   },
   "outputs": [
    {
     "data": {
      "image/png": "[encoded data removed]",
      "text/plain": [
       "<Figure size 454.517x200.667 with 1 Axes>"
      ]
     },
     "execution_count": 8,
     "metadata": {},
     "output_type": "execute_result"
    }
   ],
   "source": [
    "# optimizer, ansatz --> defined as usual\n",
    "from qiskit.algorithms.optimizers import GradientDescent\n",
    "from qiskit.circuit.library import TwoLocal\n",
    "\n",
    "num_qubits = 2\n",
    "ansatz = TwoLocal(num_qubits, \"ry\", \"cz\")\n",
    "optimizer = GradientDescent(maxiter=10)\n",
    "\n",
    "# define initial point\n",
    "init_pt = [-0.1, -0.1, -0.1, -0.1, -0.1, -0.1, -0.1, -0.1]\n",
    "\n",
    "# hamiltonian/operator --> use SparsePauliOp or Operator\n",
    "from qiskit.quantum_info import SparsePauliOp\n",
    "\n",
    "hamiltonian = SparsePauliOp.from_list(\n",
    "    [\n",
    "        (\"II\", -1.052373245772859),\n",
    "        (\"IZ\", 0.39793742484318045),\n",
    "        (\"ZI\", -0.39793742484318045),\n",
    "        (\"ZZ\", -0.01128010425623538),\n",
    "        (\"XX\", 0.18093119978423156),\n",
    "    ]\n",
    ")\n",
    "ansatz.draw(\"mpl\", style=\"bw\")"
   ]
  },
  {
   "cell_type": "code",
   "execution_count": 5,
   "metadata": {
    "slideshow": {
     "slide_type": "slide"
    }
   },
   "outputs": [],
   "source": [
    "# alternatively, the hamiltonian can be defined as:\n",
    "from qiskit.quantum_info.operators import Operator\n",
    "\n",
    "hamiltonian = Operator(\n",
    "    [\n",
    "        [-1.06365335, 0, 0, 0.1809312],\n",
    "        [0, -1.83696799, 0.1809312, 0],\n",
    "        [0, 0.1809312, -0.24521829, 0],\n",
    "        [0.1809312, 0, 0, -1.06365335],\n",
    "    ]\n",
    ")"
   ]
  },
  {
   "cell_type": "code",
   "execution_count": 6,
   "metadata": {
    "slideshow": {
     "slide_type": "skip"
    }
   },
   "outputs": [],
   "source": [
    "# save accounts\n",
    "# from tokens import IQX_TOKEN, CLOUD_TOKEN, CRN\n",
    "# QiskitRuntimeService.save_account(channel=\"ibm_quantum\", token=IQX_TOKEN, overwrite=True)\n",
    "# QiskitRuntimeService.save_account(channel=\"ibm_cloud\", token=CLOUD_TOKEN, instance=CRN, overwrite=True)"
   ]
  },
  {
   "cell_type": "code",
   "execution_count": 7,
   "metadata": {
    "scrolled": false,
    "slideshow": {
     "slide_type": "slide"
    }
   },
   "outputs": [],
   "source": [
    "# RUNTIME PRIMITIVES\n",
    "from qiskit_ibm_runtime import Estimator, QiskitRuntimeService, Session\n",
    "\n",
    "service = QiskitRuntimeService(channel=\"ibm_quantum\")\n",
    "\n",
    "with Session(service, backend=\"ibmq_qasm_simulator\") as session:\n",
    "\n",
    "    estimator = Estimator(session=session)\n",
    "\n",
    "    # define gradient\n",
    "    from qiskit.algorithms.gradients import (\n",
    "        ParamShiftEstimatorGradient as PSEstimatorGrad,\n",
    "    )\n",
    "\n",
    "    gradient = PSEstimatorGrad(estimator)\n",
    "\n",
    "    # run VQE\n",
    "    from qiskit.algorithms.minimum_eigensolvers import VQE\n",
    "\n",
    "    vqe = VQE(estimator, ansatz, optimizer, gradient=gradient, initial_point=init_pt)\n",
    "    result = vqe.compute_minimum_eigenvalue(hamiltonian)"
   ]
  },
  {
   "cell_type": "code",
   "execution_count": 8,
   "metadata": {
    "slideshow": {
     "slide_type": "fragment"
    }
   },
   "outputs": [
    {
     "name": "stdout",
     "output_type": "stream",
     "text": [
      "{   'aux_operators_evaluated': None,\n",
      "    'cost_function_evals': 0,\n",
      "    'eigenvalue': -1.06683131443,\n",
      "    'optimal_circuit': <qiskit.circuit.library.n_local.two_local.TwoLocal object at 0x7fa85134ac70>,\n",
      "    'optimal_parameters': {   ParameterVectorElement(θ[0]): -0.1128075762551,\n",
      "                              ParameterVectorElement(θ[1]): -0.08161268373337502,\n",
      "                              ParameterVectorElement(θ[7]): -0.07836734584550001,\n",
      "                              ParameterVectorElement(θ[6]): -0.109432550153025,\n",
      "                              ParameterVectorElement(θ[2]): -0.11121338580415,\n",
      "                              ParameterVectorElement(θ[5]): -0.08355223966615,\n",
      "                              ParameterVectorElement(θ[4]): -0.11426588989845,\n",
      "                              ParameterVectorElement(θ[3]): -0.079963318388175},\n",
      "    'optimal_point': array([-0.11280758, -0.08161268, -0.11121339, -0.07996332, -0.11426589,\n",
      "       -0.08355224, -0.10943255, -0.07836735]),\n",
      "    'optimal_value': -1.06683131443,\n",
      "    'optimizer_evals': None,\n",
      "    'optimizer_result': <qiskit.algorithms.optimizers.optimizer.OptimizerResult object at 0x7fa800a6c310>,\n",
      "    'optimizer_time': 34.856831789016724}\n"
     ]
    }
   ],
   "source": [
    "# see results\n",
    "print(result)"
   ]
  },
  {
   "cell_type": "code",
   "execution_count": 9,
   "metadata": {
    "slideshow": {
     "slide_type": "subslide"
    }
   },
   "outputs": [
    {
     "name": "stdout",
     "output_type": "stream",
     "text": [
      "{   'aux_operators_evaluated': None,\n",
      "    'cost_function_evals': 0,\n",
      "    'eigenvalue': -1.064941089849978,\n",
      "    'optimal_circuit': <qiskit.circuit.library.n_local.two_local.TwoLocal object at 0x7fa82058f400>,\n",
      "    'optimal_parameters': {   ParameterVectorElement(θ[0]): -0.11293754920156243,\n",
      "                              ParameterVectorElement(θ[1]): -0.08165430016819078,\n",
      "                              ParameterVectorElement(θ[7]): -0.07853610021465576,\n",
      "                              ParameterVectorElement(θ[6]): -0.10936993530110342,\n",
      "                              ParameterVectorElement(θ[2]): -0.11129343856755183,\n",
      "                              ParameterVectorElement(θ[5]): -0.08369157461493806,\n",
      "                              ParameterVectorElement(θ[4]): -0.11427739939633,\n",
      "                              ParameterVectorElement(θ[3]): -0.07992223618393204},\n",
      "    'optimal_point': array([-0.11293755, -0.0816543 , -0.11129344, -0.07992224, -0.1142774 ,\n",
      "       -0.08369157, -0.10936994, -0.0785361 ]),\n",
      "    'optimal_value': -1.064941089849978,\n",
      "    'optimizer_evals': None,\n",
      "    'optimizer_result': <qiskit.algorithms.optimizers.optimizer.OptimizerResult object at 0x7fa8202ab820>,\n",
      "    'optimizer_time': 1.0413167476654053}\n"
     ]
    }
   ],
   "source": [
    "# REFERENCE PRIMITIVES\n",
    "from qiskit.primitives import Estimator\n",
    "\n",
    "# define estimator\n",
    "estimator = Estimator()\n",
    "\n",
    "# define gradient\n",
    "from qiskit.algorithms.gradients import FiniteDiffEstimatorGradient as FDEstimatorGrad\n",
    "\n",
    "gradient = FDEstimatorGrad(estimator, epsilon=0.01)\n",
    "\n",
    "# run VQE\n",
    "from qiskit.algorithms.minimum_eigensolvers import VQE\n",
    "\n",
    "vqe = VQE(estimator, ansatz, optimizer, gradient=gradient, initial_point=init_pt)\n",
    "result = vqe.compute_minimum_eigenvalue(hamiltonian)\n",
    "\n",
    "# see results\n",
    "print(result)"
   ]
  },
  {
   "cell_type": "markdown",
   "metadata": {
    "slideshow": {
     "slide_type": "slide"
    }
   },
   "source": [
    "### New State Fidelities\n",
    "\n",
    "$ statefidelity = |\\langle\\psi(x)|\\phi(y)\\rangle|^2 $"
   ]
  },
  {
   "cell_type": "code",
   "execution_count": 7,
   "metadata": {
    "slideshow": {
     "slide_type": "fragment"
    }
   },
   "outputs": [
    {
     "data": {
      "image/png": "[encoded data removed]",
      "text/plain": [
       "<Figure size 370.906x200.667 with 1 Axes>"
      ]
     },
     "execution_count": 7,
     "metadata": {},
     "output_type": "execute_result"
    }
   ],
   "source": [
    "from qiskit.circuit.library import RealAmplitudes\n",
    "\n",
    "qc1 = RealAmplitudes(2, reps=1)  # 4 parameters\n",
    "qc1.draw(output=\"mpl\", style=\"bw\")"
   ]
  },
  {
   "cell_type": "code",
   "execution_count": 6,
   "metadata": {
    "slideshow": {
     "slide_type": "fragment"
    }
   },
   "outputs": [
    {
     "data": {
      "image/png": "[encoded data removed]",
      "text/plain": [
       "<Figure size 370.906x200.667 with 1 Axes>"
      ]
     },
     "execution_count": 6,
     "metadata": {},
     "output_type": "execute_result"
    }
   ],
   "source": [
    "from qiskit.circuit.library import ZZFeatureMap\n",
    "\n",
    "qc2 = ZZFeatureMap(2, reps=1)  # 2 parameters\n",
    "qc2.draw(output=\"mpl\", style=\"bw\")"
   ]
  },
  {
   "cell_type": "code",
   "execution_count": 14,
   "metadata": {
    "slideshow": {
     "slide_type": "slide"
    }
   },
   "outputs": [
    {
     "name": "stdout",
     "output_type": "stream",
     "text": [
      "[0.2550267968270442, 0.03806566537280539, 0.2499999999999999]\n"
     ]
    }
   ],
   "source": [
    "# instantiate fidelity\n",
    "from qiskit.algorithms.state_fidelities import ComputeUncompute\n",
    "from qiskit.primitives import Sampler\n",
    "\n",
    "fidelity = ComputeUncompute(sampler=Sampler())\n",
    "\n",
    "# define param. values\n",
    "values1 = [[1, 2, 3, 4], [4, 3, 2, 1], [0, 0, 0, 0]]\n",
    "values2 = [[7, 8], [1, 2], [3, 4]]\n",
    "\n",
    "# run job\n",
    "job = fidelity.run([qc1] * 3, [qc2] * 3, values1, values2)\n",
    "\n",
    "# retrieve results\n",
    "results = job.result().fidelities\n",
    "print(results)"
   ]
  },
  {
   "cell_type": "markdown",
   "metadata": {
    "slideshow": {
     "slide_type": "slide"
    }
   },
   "source": [
    "The `ComputeUncompute` circuit construction is simple yet poweful. As seen in:\n",
    "\n",
    "*[1] Havlíček, V., Córcoles, A. D., Temme, K., Harrow, A. W., Kandala,\n",
    "    A., Chow, J. M., & Gambetta, J. M. (2019). \n",
    "    Supervised learning with quantum-enhanced feature spaces. \n",
    "    Nature, 567(7747), 209-212.\n",
    "    arXiv:1804.11326v2*"
   ]
  },
  {
   "cell_type": "markdown",
   "metadata": {},
   "source": [
    "```python\n",
    "def create_fidelity_circuit(\n",
    "    self, \n",
    "    circuit_1: QuantumCircuit, \n",
    "    circuit_2: QuantumCircuit ) -> QuantumCircuit:\n",
    "\n",
    "    circuit = circuit_1.compose(circuit_2.inverse())\n",
    "    circuit.measure_all()\n",
    "\n",
    "    return circuit\n",
    "```"
   ]
  },
  {
   "cell_type": "markdown",
   "metadata": {
    "slideshow": {
     "slide_type": "slide"
    }
   },
   "source": [
    "### Case Study: `SamplingVQE` + `QNSPSA`"
   ]
  },
  {
   "cell_type": "code",
   "execution_count": 5,
   "metadata": {
    "slideshow": {
     "slide_type": "-"
    }
   },
   "outputs": [
    {
     "data": {
      "image/png": "[encoded data removed]",
      "text/plain": [
       "<Figure size 454.517x200.667 with 1 Axes>"
      ]
     },
     "execution_count": 5,
     "metadata": {},
     "output_type": "execute_result"
    }
   ],
   "source": [
    "# define hamiltonian/operator --> diagonalized op.\n",
    "from qiskit.quantum_info import SparsePauliOp\n",
    "\n",
    "hamiltonian = SparsePauliOp([\"ZZ\", \"IZ\", \"II\"], coeffs=[1, -0.5, 0.12])\n",
    "\n",
    "# define ansatz\n",
    "from qiskit.circuit.library import TwoLocal\n",
    "\n",
    "num_qubits = 2\n",
    "ansatz = TwoLocal(num_qubits, \"ry\", \"cz\")\n",
    "ansatz.draw(\"mpl\", style=\"bw\")"
   ]
  },
  {
   "cell_type": "code",
   "execution_count": 11,
   "metadata": {
    "slideshow": {
     "slide_type": "slide"
    }
   },
   "outputs": [
    {
     "name": "stdout",
     "output_type": "stream",
     "text": [
      "SamplingMinimumEigensolverResult:\n",
      "\tEigenvalue: -1.3799675933837992\n",
      "\tBest measurement\n",
      ": {'state': 2, 'bitstring': '10', 'value': (-1.38+0j), 'probability': 0.9999935260863243}\n",
      "\n"
     ]
    }
   ],
   "source": [
    "from qiskit.algorithms.optimizers import QNSPSA\n",
    "from qiskit.primitives import Sampler\n",
    "from qiskit.algorithms.minimum_eigensolvers import SamplingVQE\n",
    "\n",
    "with Session(service, backend=\"ibmq_qasm_simulator\") as session:\n",
    "\n",
    "    # define QNSPSA optimizer\n",
    "    sampler = Sampler(session=session)\n",
    "    fidelity = QNSPSA.get_fidelity(sampler=sampler, circuit=ansatz)\n",
    "    optimizer = QNSPSA(fidelity=fidelity, maxiter=100)\n",
    "\n",
    "    # run SamplingVQE\n",
    "    vqe = SamplingVQE(sampler, ansatz, optimizer)\n",
    "    result = vqe.compute_minimum_eigenvalue(hamiltonian)\n",
    "    print(result)"
   ]
  },
  {
   "cell_type": "markdown",
   "metadata": {
    "slideshow": {
     "slide_type": "slide"
    }
   },
   "source": [
    "### Case Study: `VQD`"
   ]
  },
  {
   "cell_type": "code",
   "execution_count": 80,
   "metadata": {},
   "outputs": [],
   "source": [
    "# set up ansatz\n",
    "from qiskit.circuit.library import TwoLocal\n",
    "\n",
    "ansatz = TwoLocal(rotation_blocks=[\"ry\", \"rz\"], entanglement_blocks=\"cz\")\n",
    "\n",
    "# set up operator\n",
    "from qiskit.quantum_info import SparsePauliOp\n",
    "\n",
    "h2_op = SparsePauliOp(\n",
    "    [\"II\", \"IZ\", \"ZI\", \"ZZ\", \"XX\"],\n",
    "    coeffs=[\n",
    "        -1.052373245772859,\n",
    "        0.39793742484318045,\n",
    "        -0.39793742484318045,\n",
    "        -0.01128010425623538,\n",
    "        0.18093119978423156,\n",
    "    ],\n",
    ")"
   ]
  },
  {
   "cell_type": "code",
   "execution_count": 81,
   "metadata": {
    "slideshow": {
     "slide_type": "slide"
    }
   },
   "outputs": [
    {
     "name": "stdout",
     "output_type": "stream",
     "text": [
      "[-1.40384761+0.j -1.36871391+0.j]\n"
     ]
    }
   ],
   "source": [
    "# define optimizer\n",
    "from qiskit.algorithms.optimizers import SPSA\n",
    "\n",
    "optimizer = SPSA(maxiter=10)\n",
    "\n",
    "# define estimator and fidelity instance\n",
    "from qiskit_ibm_runtime import Sampler, Estimator, Session, QiskitRuntimeService\n",
    "from qiskit.algorithms.state_fidelities import ComputeUncompute\n",
    "\n",
    "service = QiskitRuntimeService(channel=\"ibm_quantum\")\n",
    "\n",
    "with Session(service, backend=\"simulator_statevector\") as session:\n",
    "    # multiple primitives within session\n",
    "    estimator = Estimator(session=session)\n",
    "    fidelity = ComputeUncompute(Sampler(session=session))\n",
    "\n",
    "    # run VQD\n",
    "    from qiskit.algorithms.eigensolvers import VQD\n",
    "\n",
    "    vqd = VQD(estimator, fidelity, ansatz, optimizer, k=2, betas=[0.5, 0.5])\n",
    "    result = vqd.compute_eigenvalues(h2_op)\n",
    "    eigenvalues = result.eigenvalues\n",
    "    print(eigenvalues)"
   ]
  },
  {
   "cell_type": "markdown",
   "metadata": {
    "slideshow": {
     "slide_type": "slide"
    }
   },
   "source": [
    "#### How is the energy evaluated in `VQD`?\n",
    "\n",
    "In `VQD.compute_eigenvalues()`:\n",
    "\n",
    "```python\n",
    "def compute_eigenvalues(operator):\n",
    "    ...\n",
    "    opt_result = self.optimizer.minimize(\n",
    "                 fun=evaluate_energy, x0=initial_point)\n",
    "    ...\n",
    "```\n"
   ]
  },
  {
   "cell_type": "markdown",
   "metadata": {
    "slideshow": {
     "slide_type": "slide"
    }
   },
   "source": [
    "In `evaluate_energy()` (**leveraging async**):\n",
    "\n",
    "```python\n",
    "def evaluate_energy(parameters):\n",
    "    estimator_job = self.estimator.run(\n",
    "                        circuits=[self.ansatz], observables=[operator], \n",
    "                        parameter_values=[parameters])\n",
    "```\n",
    "```python\n",
    "    if step > 1:\n",
    "        # Compute overlap cost\n",
    "        fidelity_job = self.fidelity.run(\n",
    "                            [self.ansatz] * len(prev_circs), \n",
    "                             prev_circs,\n",
    "                            [parameters] * len(prev_circs), \n",
    "                            [prev_states[:-1]])\n",
    "```\n",
    "```python\n",
    "        estimator_result = estimator_job.result()\n",
    "        values = estimator_result.values\n",
    "        costs = fidelity_job.result().fidelities\n",
    "        for (state, cost) in zip(range(step - 1), costs):\n",
    "            values += np.real(betas[state] * cost)\n",
    "    else:\n",
    "        estimator_result = estimator_job.result()\n",
    "        values = estimator_result.values\n",
    "    \n",
    "    return values[0]\n",
    "```\n"
   ]
  },
  {
   "cell_type": "markdown",
   "metadata": {
    "slideshow": {
     "slide_type": "slide"
    }
   },
   "source": [
    "## Wrap-Up\n",
    "<img src=\"imgs/terra_changes.png\" width = 1300 height=1300 />\n"
   ]
  },
  {
   "cell_type": "markdown",
   "metadata": {
    "slideshow": {
     "slide_type": "slide"
    }
   },
   "source": [
    "## Wrap-Up\n",
    "<img src=\"imgs/takeaways.png\" width = 1300 height=1300 />\n"
   ]
  },
  {
   "cell_type": "markdown",
   "metadata": {
    "slideshow": {
     "slide_type": "slide"
    }
   },
   "source": [
    "## From Algorithms to Applications\n",
    "\n",
    "<img src=\"imgs/pipeline.png\" width = 1300 height=1300 />"
   ]
  },
  {
   "cell_type": "markdown",
   "metadata": {
    "slideshow": {
     "slide_type": "slide"
    }
   },
   "source": [
    "## From Algorithms to Applications\n",
    "\n",
    "<img src=\"imgs/quadratic-pipeline.png\" width = 1300 height=1300 />"
   ]
  },
  {
   "cell_type": "markdown",
   "metadata": {
    "slideshow": {
     "slide_type": "slide"
    }
   },
   "source": [
    "<a id='ml'></a>\n",
    "\n",
    "<font color='gray'> 1. Introduction</font> \n",
    "\n",
    "<font color='gray'> 2. Algorithms</font> \n",
    "\n",
    "# 3. Applications: Machine Learning. Performance\n",
    "\n",
    "<font color='gray'>4. Applications: Nature. Performance</font>  \n",
    "\n",
    "<font color='gray'>5. Wrap-Up</font>"
   ]
  },
  {
   "cell_type": "markdown",
   "metadata": {
    "slideshow": {
     "slide_type": "skip"
    }
   },
   "source": [
    "[Top](#top)"
   ]
  },
  {
   "cell_type": "markdown",
   "metadata": {
    "slideshow": {
     "slide_type": "slide"
    }
   },
   "source": [
    "\n",
    "\n",
    "<img src=\"imgs/ml-pipeline.png\" width = 1300 height=1300 />"
   ]
  },
  {
   "cell_type": "markdown",
   "metadata": {
    "slideshow": {
     "slide_type": "slide"
    }
   },
   "source": [
    "<img src=\"imgs/qml.png\" width = 1300 height=1300 />"
   ]
  },
  {
   "cell_type": "markdown",
   "metadata": {
    "slideshow": {
     "slide_type": "slide"
    }
   },
   "source": [
    "<img src=\"imgs/qml2.png\" width = 1300 height=1300 />"
   ]
  },
  {
   "cell_type": "markdown",
   "metadata": {
    "slideshow": {
     "slide_type": "slide"
    }
   },
   "source": [
    "## Case Study: Classification with `SamplerQNN`"
   ]
  },
  {
   "cell_type": "code",
   "execution_count": 11,
   "metadata": {
    "slideshow": {
     "slide_type": "skip"
    }
   },
   "outputs": [],
   "source": [
    "import numpy as np\n",
    "import matplotlib.pyplot as plt\n",
    "\n",
    "num_inputs = 2\n",
    "num_samples = 20\n",
    "X = 2 * algorithm_globals.random.random([num_samples, num_inputs]) - 1\n",
    "y01 = 1 * (np.sum(X, axis=1) >= 0)\n",
    "y = 2 * y01 - 1\n",
    "y_one_hot = np.zeros((num_samples, 2))\n",
    "for i in range(num_samples):\n",
    "    y_one_hot[i, y01[i]] = 1"
   ]
  },
  {
   "cell_type": "code",
   "execution_count": 12,
   "metadata": {
    "slideshow": {
     "slide_type": "-"
    }
   },
   "outputs": [
    {
     "data": {
      "text/plain": [
       "[<matplotlib.lines.Line2D at 0x7fd7f0d75550>]"
      ]
     },
     "execution_count": 12,
     "metadata": {},
     "output_type": "execute_result"
    },
    {
     "data": {
      "image/png": "[encoded data removed]",
      "text/plain": [
       "<Figure size 640x480 with 1 Axes>"
      ]
     },
     "metadata": {},
     "output_type": "display_data"
    }
   ],
   "source": [
    "# Plot dataset\n",
    "for x, y_target in zip(X, y):\n",
    "    if y_target == 1:\n",
    "        plt.plot(x[0], x[1], \"bo\")\n",
    "    else:\n",
    "        plt.plot(x[0], x[1], \"go\")\n",
    "plt.plot([-1, 1], [1, -1], \"--\", color=\"black\")"
   ]
  },
  {
   "cell_type": "code",
   "execution_count": 4,
   "metadata": {
    "slideshow": {
     "slide_type": "slide"
    }
   },
   "outputs": [
    {
     "data": {
      "image/png": "[encoded data removed]",
      "text/plain": [
       "<Figure size 705.35x200.667 with 1 Axes>"
      ]
     },
     "execution_count": 4,
     "metadata": {},
     "output_type": "execute_result"
    }
   ],
   "source": [
    "from qiskit import QuantumCircuit\n",
    "from qiskit.circuit.library import ZZFeatureMap, RealAmplitudes\n",
    "\n",
    "# construct QNN\n",
    "qc = QuantumCircuit(2)\n",
    "feature_map = ZZFeatureMap(2)\n",
    "ansatz = RealAmplitudes(2)\n",
    "qc.compose(feature_map, inplace=True)\n",
    "qc.compose(ansatz, inplace=True)\n",
    "qc.draw(\"mpl\", style=\"bw\")"
   ]
  },
  {
   "cell_type": "code",
   "execution_count": 8,
   "metadata": {
    "slideshow": {
     "slide_type": "-"
    }
   },
   "outputs": [],
   "source": [
    "from qiskit.primitives import Sampler\n",
    "from qiskit_machine_learning.neural_networks import SamplerQNN\n",
    "\n",
    "sampler = Sampler()\n",
    "qnn1 = SamplerQNN(\n",
    "    sampler=sampler,\n",
    "    circuit=qc,\n",
    "    input_params=feature_map.parameters,\n",
    "    weight_params=ansatz.parameters,\n",
    ")"
   ]
  },
  {
   "cell_type": "code",
   "execution_count": 13,
   "metadata": {
    "slideshow": {
     "slide_type": "skip"
    }
   },
   "outputs": [],
   "source": [
    "# callback function that draws a live plot when the .fit() method is called\n",
    "from IPython.display import clear_output\n",
    "\n",
    "\n",
    "def callback_graph(weights, obj_func_eval):\n",
    "    clear_output(wait=True)\n",
    "    objective_func_vals.append(obj_func_eval)\n",
    "    plt.title(\"Objective function value against iteration\")\n",
    "    plt.xlabel(\"Iteration\")\n",
    "    plt.ylabel(\"Objective function value\")\n",
    "    plt.plot(range(len(objective_func_vals)), objective_func_vals)\n",
    "    plt.show()"
   ]
  },
  {
   "cell_type": "code",
   "execution_count": 14,
   "metadata": {
    "slideshow": {
     "slide_type": "slide"
    }
   },
   "outputs": [],
   "source": [
    "from qiskit_machine_learning.algorithms import NeuralNetworkClassifier\n",
    "from qiskit.algorithms.optimizers import COBYLA\n",
    "\n",
    "# construct neural network classifier\n",
    "estimator_classifier = NeuralNetworkClassifier(\n",
    "    qnn1, optimizer=COBYLA(maxiter=60), callback=callback_graph)"
   ]
  },
  {
   "cell_type": "code",
   "execution_count": 15,
   "metadata": {},
   "outputs": [
    {
     "data": {
      "image/png": "[encoded data removed]",
      "text/plain": [
       "<Figure size 1000x400 with 1 Axes>"
      ]
     },
     "metadata": {},
     "output_type": "display_data"
    },
    {
     "data": {
      "text/plain": [
       "0.2"
      ]
     },
     "execution_count": 15,
     "metadata": {},
     "output_type": "execute_result"
    }
   ],
   "source": [
    "# create empty array for callback to store evaluations of the objective function\n",
    "objective_func_vals = []\n",
    "plt.rcParams[\"figure.figsize\"] = (10, 4)\n",
    "\n",
    "# fit classifier to data\n",
    "estimator_classifier.fit(X, y)\n",
    "\n",
    "# return to default figsize\n",
    "plt.rcParams[\"figure.figsize\"] = (6, 4)\n",
    "\n",
    "# score classifier\n",
    "estimator_classifier.score(X, y)"
   ]
  },
  {
   "cell_type": "markdown",
   "metadata": {
    "slideshow": {
     "slide_type": "slide"
    }
   },
   "source": [
    "## Primitives Benchmark: SamplerQNN vs. CircuitQNN"
   ]
  },
  {
   "cell_type": "code",
   "execution_count": 17,
   "metadata": {
    "slideshow": {
     "slide_type": "skip"
    }
   },
   "outputs": [],
   "source": [
    "from matplotlib import pyplot as plt\n",
    "import numpy as np\n",
    "\n",
    "plt.rcParams.update({\"font.size\": 15})\n",
    "\n",
    "benchmark_data = {}\n",
    "benchmark_data[\"Primitives\"] = (2.272801638, 1.1564188, 0.125061715)\n",
    "benchmark_data[\"Legacy Jobs\"] = (5.794027249, 4.741929928, 0.330515218)\n",
    "\n",
    "X = [\"Primitives\", \"Legacy Jobs\"]\n",
    "X_axis = np.arange(len(X))\n",
    "\n",
    "qnn_benchmark = plt.figure(figsize=(10, 6))\n",
    "# plt.yscale(\"log\")\n",
    "plt.ylabel(\"Time / circuit [s]\")\n",
    "plt.xticks(X_axis, X)\n",
    "plt.suptitle(\"Time/circuit\")\n",
    "plt.title(\"1-qubit QNN on ibmq_qasm_simulator\", fontsize=\"small\")\n",
    "for x, (key, val) in enumerate(benchmark_data.items()):\n",
    "    line_1 = plt.bar(x - 0.2, val[0], 0.2, color=\"royalblue\")\n",
    "    line_2 = plt.bar(x, val[1], 0.2, color=\"grey\")\n",
    "    line_3 = plt.bar(x + 0.2, val[2], 0.2, color=\"lightseagreen\")\n",
    "\n",
    "plt.legend(\n",
    "    handles=[line_1, line_2, line_3],\n",
    "    labels=[\"1 sample\", \"20 samples, batch size 1\", \"20 samples, batch size 20\"],\n",
    ")\n",
    "plt.close()"
   ]
  },
  {
   "cell_type": "code",
   "execution_count": 18,
   "metadata": {
    "slideshow": {
     "slide_type": "-"
    }
   },
   "outputs": [
    {
     "data": {
      "image/png": "[encoded data removed]",
      "text/plain": [
       "<Figure size 1000x600 with 1 Axes>"
      ]
     },
     "execution_count": 18,
     "metadata": {},
     "output_type": "execute_result"
    }
   ],
   "source": [
    "qnn_benchmark"
   ]
  },
  {
   "cell_type": "markdown",
   "metadata": {
    "slideshow": {
     "slide_type": "slide"
    }
   },
   "source": [
    "## Case Study: Hybrid QNN with `EstimatorQNN` and `TorchConnector`"
   ]
  },
  {
   "cell_type": "code",
   "execution_count": 1,
   "metadata": {
    "slideshow": {
     "slide_type": "skip"
    }
   },
   "outputs": [],
   "source": [
    "from torch import cat, no_grad, manual_seed\n",
    "from torch.utils.data import DataLoader\n",
    "from torchvision import datasets, transforms\n",
    "import numpy as np\n",
    "\n",
    "# Train Dataset\n",
    "# -------------\n",
    "\n",
    "# Set train shuffle seed (for reproducibility)\n",
    "manual_seed(42)\n",
    "\n",
    "batch_size = 100\n",
    "n_samples = 100  # We will concentrate on the first 100 samples\n",
    "\n",
    "# Use pre-defined torchvision function to load MNIST train data\n",
    "X_train = datasets.MNIST(\n",
    "    root=\"./data\",\n",
    "    train=True,\n",
    "    download=True,\n",
    "    transform=transforms.Compose([transforms.ToTensor()]),\n",
    ")\n",
    "\n",
    "# Filter out labels (originally 0-9), leaving only labels 0 and 1\n",
    "idx = np.append(\n",
    "    np.where(X_train.targets == 0)[0][:n_samples],\n",
    "    np.where(X_train.targets == 1)[0][:n_samples],\n",
    ")\n",
    "X_train.data = X_train.data[idx]\n",
    "X_train.targets = X_train.targets[idx]\n",
    "\n",
    "# Define torch dataloader with filtered data\n",
    "train_loader = DataLoader(X_train, batch_size=batch_size, shuffle=True)"
   ]
  },
  {
   "cell_type": "code",
   "execution_count": 2,
   "metadata": {
    "slideshow": {
     "slide_type": "-"
    }
   },
   "outputs": [
    {
     "data": {
      "image/png": "[encoded data removed]",
      "text/plain": [
       "<Figure size 1000x300 with 6 Axes>"
      ]
     },
     "metadata": {},
     "output_type": "display_data"
    }
   ],
   "source": [
    "import matplotlib.pyplot as plt\n",
    "\n",
    "n_samples_show = 6\n",
    "\n",
    "data_iter = iter(train_loader)\n",
    "fig, axes = plt.subplots(nrows=1, ncols=n_samples_show, figsize=(10, 3))\n",
    "\n",
    "# while n_samples_show > 0:\n",
    "images, targets = data_iter.__next__()\n",
    "\n",
    "for i in range(n_samples_show):\n",
    "    axes[n_samples_show - 1].imshow(images[i].numpy().squeeze(), cmap=\"gray\")\n",
    "    axes[n_samples_show - 1].set_xticks([])\n",
    "    axes[n_samples_show - 1].set_yticks([])\n",
    "    axes[n_samples_show - 1].set_title(\"Labeled: {}\".format(targets[i].item()))\n",
    "\n",
    "    n_samples_show -= 1"
   ]
  },
  {
   "cell_type": "code",
   "execution_count": 3,
   "metadata": {
    "slideshow": {
     "slide_type": "slide"
    }
   },
   "outputs": [],
   "source": [
    "# Define Hybrid QNN architecture\n",
    "\n",
    "from qiskit_machine_learning.connectors import TorchConnector\n",
    "from torch.nn import (\n",
    "    Module,\n",
    "    Conv2d,\n",
    "    Linear,\n",
    "    Dropout2d,\n",
    "    NLLLoss,\n",
    "    MaxPool2d\n",
    ")\n",
    "import torch.nn.functional as F\n",
    "\n",
    "class Net(Module):\n",
    "    def __init__(self, qnn):\n",
    "        super().__init__()\n",
    "        self.conv1 = Conv2d(1, 2, kernel_size=5)\n",
    "        self.conv2 = Conv2d(2, 16, kernel_size=5)\n",
    "        self.dropout = Dropout2d()\n",
    "        self.fc1 = Linear(256, 64)\n",
    "        self.fc2 = Linear(64, 2)\n",
    "        self.qnn = TorchConnector(qnn)\n",
    "        self.fc3 = Linear(1, 1)\n",
    "\n",
    "    def forward(self, x):\n",
    "        x = F.relu(self.conv1(x))\n",
    "        x = F.max_pool2d(x, 2)\n",
    "        x = F.relu(self.conv2(x)) \n",
    "        x = F.max_pool2d(x, 2)\n",
    "        x = self.dropout(x)\n",
    "        x = x.view(x.shape[0], -1)\n",
    "        x = F.relu(self.fc1(x))\n",
    "        x = self.fc2(x)\n",
    "        x = self.qnn(x)\n",
    "        x = self.fc3(x)\n",
    "        return cat((x, 1 - x), -1)"
   ]
  },
  {
   "cell_type": "code",
   "execution_count": 4,
   "metadata": {
    "slideshow": {
     "slide_type": "slide"
    }
   },
   "outputs": [],
   "source": [
    "# Define and create QNN\n",
    "\n",
    "from qiskit import QuantumCircuit\n",
    "from qiskit.circuit.library import ZZFeatureMap, RealAmplitudes\n",
    "from qiskit_machine_learning.neural_networks import EstimatorQNN\n",
    "\n",
    "\n",
    "def create_qnn(estimator):\n",
    "    feature_map = ZZFeatureMap(2)\n",
    "    ansatz = RealAmplitudes(2, reps=1)\n",
    "    qc = QuantumCircuit(2)\n",
    "    qc.compose(feature_map, inplace=True)\n",
    "    qc.compose(ansatz, inplace=True)\n",
    "\n",
    "    qnn = EstimatorQNN(\n",
    "        estimator=estimator,\n",
    "        circuit=qc,\n",
    "        input_params=feature_map.parameters,\n",
    "        weight_params=ansatz.parameters,\n",
    "        input_gradients=True,\n",
    "    )\n",
    "    return qnn"
   ]
  },
  {
   "cell_type": "code",
   "execution_count": 5,
   "metadata": {
    "slideshow": {
     "slide_type": "slide"
    }
   },
   "outputs": [
    {
     "name": "stdout",
     "output_type": "stream",
     "text": [
      "Training [10%]\tLoss: -0.3839\n",
      "Training [20%]\tLoss: -0.6355\n",
      "Training [30%]\tLoss: -0.8439\n",
      "Training [40%]\tLoss: -1.0150\n",
      "Training [50%]\tLoss: -1.1223\n",
      "Training [60%]\tLoss: -1.1380\n",
      "Training [70%]\tLoss: -1.1374\n",
      "Training [80%]\tLoss: -1.1745\n",
      "Training [90%]\tLoss: -1.2461\n",
      "Training [100%]\tLoss: -1.2532\n"
     ]
    }
   ],
   "source": [
    "# Run training\n",
    "\n",
    "from qiskit_ibm_runtime import Estimator, QiskitRuntimeService, Session\n",
    "from qiskit_machine_learning.neural_networks import SamplerQNN\n",
    "import torch.optim as optim\n",
    "\n",
    "loss_list = []\n",
    "state_dict = {}\n",
    "\n",
    "service = QiskitRuntimeService(channel=\"ibm_quantum\")\n",
    "with Session(service=service, backend=\"simulator_statevector\") as session:\n",
    "    estimator = Estimator(session=session)\n",
    "    qnn = create_qnn(estimator)\n",
    "    model = Net(qnn)\n",
    "\n",
    "    optimizer = optim.Adam(model.parameters(), lr=0.001)\n",
    "    loss_func = NLLLoss()\n",
    "\n",
    "    # Start training\n",
    "    epochs = 10\n",
    "    model.train()\n",
    "    for epoch in range(epochs):\n",
    "        total_loss = []\n",
    "        for batch_idx, (data, target) in enumerate(train_loader):\n",
    "            optimizer.zero_grad(set_to_none=True)\n",
    "            output = model(data)\n",
    "            loss = loss_func(output, target)\n",
    "            loss.backward()\n",
    "            optimizer.step()\n",
    "            total_loss.append(loss.item())\n",
    "        loss_list.append(sum(total_loss) / len(total_loss))\n",
    "        print(\"Training [{:.0f}%]\\tLoss: {:.4f}\".format(100.0 * (epoch + 1) / epochs, loss_list[-1]))\n",
    "\n",
    "    # Save state dict to transfer between sessions\n",
    "    state_dict = model.state_dict()"
   ]
  },
  {
   "cell_type": "code",
   "execution_count": 6,
   "metadata": {
    "slideshow": {
     "slide_type": "slide"
    }
   },
   "outputs": [
    {
     "data": {
      "image/png": "[encoded data removed]",
      "text/plain": [
       "<Figure size 640x480 with 1 Axes>"
      ]
     },
     "metadata": {},
     "output_type": "display_data"
    }
   ],
   "source": [
    "# Plot loss convergence\n",
    "\n",
    "plt.plot(loss_list)\n",
    "plt.title(\"Hybrid NN Training Convergence\")\n",
    "plt.xlabel(\"Training Iterations\")\n",
    "plt.ylabel(\"Neg. Log Likelihood Loss\")\n",
    "plt.show()"
   ]
  },
  {
   "cell_type": "code",
   "execution_count": 7,
   "metadata": {
    "slideshow": {
     "slide_type": "skip"
    }
   },
   "outputs": [],
   "source": [
    "# Test Dataset\n",
    "# -------------\n",
    "\n",
    "# Set test shuffle seed (for reproducibility)\n",
    "# manual_seed(5)\n",
    "\n",
    "n_samples = 50\n",
    "\n",
    "# Use pre-defined torchvision function to load MNIST test data\n",
    "X_test = datasets.MNIST(\n",
    "    root=\"./data\",\n",
    "    train=False,\n",
    "    download=True,\n",
    "    transform=transforms.Compose([transforms.ToTensor()]),\n",
    ")\n",
    "\n",
    "# Filter out labels (originally 0-9), leaving only labels 0 and 1\n",
    "idx = np.append(\n",
    "    np.where(X_test.targets == 0)[0][:n_samples],\n",
    "    np.where(X_test.targets == 1)[0][:n_samples],\n",
    ")\n",
    "X_test.data = X_test.data[idx]\n",
    "X_test.targets = X_test.targets[idx]\n",
    "\n",
    "# Define torch dataloader with filtered data\n",
    "test_loader = DataLoader(X_test, batch_size=batch_size, shuffle=True)"
   ]
  },
  {
   "cell_type": "code",
   "execution_count": 54,
   "metadata": {
    "slideshow": {
     "slide_type": "slide"
    }
   },
   "outputs": [
    {
     "name": "stdout",
     "output_type": "stream",
     "text": [
      "Performance on test data:\n",
      "\tLoss: -1.2853\n",
      "\tAccuracy: 100.0%\n"
     ]
    }
   ],
   "source": [
    "# Run Evaluation\n",
    "\n",
    "with Session(service=service, backend=\"simulator_statevector\") as session:\n",
    "\n",
    "    estimator = Estimator(session=session)\n",
    "    qnn = create_qnn(estimator)\n",
    "    model = Net(qnn)\n",
    "    model.load_state_dict(state_dict)\n",
    "    model.eval()\n",
    "\n",
    "    with no_grad():\n",
    "        correct = 0\n",
    "        for batch_idx, (data, target) in enumerate(test_loader):\n",
    "            output = model(data)\n",
    "            if len(output.shape) == 1:\n",
    "                output = output.reshape(1, *output.shape)\n",
    "\n",
    "            pred = output.argmax(dim=1, keepdim=True)\n",
    "            correct += pred.eq(target.view_as(pred)).sum().item()\n",
    "\n",
    "            loss = loss_func(output, target)\n",
    "            total_loss.append(loss.item())\n",
    "\n",
    "        print(\n",
    "            \"Performance on test data:\\n\\tLoss: {:.4f}\\n\\tAccuracy: {:.1f}%\".format(\n",
    "                sum(total_loss) / len(total_loss),\n",
    "                correct / len(test_loader) / batch_size * 100,\n",
    "            )\n",
    "        )"
   ]
  },
  {
   "cell_type": "markdown",
   "metadata": {
    "slideshow": {
     "slide_type": "slide"
    }
   },
   "source": [
    "## Primitives Benchmark: Gradients\n",
    "\n",
    "<!-- - Test with RealAmplitudes ansatz, 10 qubits\n",
    "- Normalized execution time: **primitive gradients** are ~20 times faster than **opflow gradients**\n",
    "\n",
    " -->"
   ]
  },
  {
   "cell_type": "code",
   "execution_count": 2,
   "metadata": {},
   "outputs": [
    {
     "data": {
      "image/png": "[encoded data removed]",
      "text/plain": [
       "<Figure size 203.885x869.556 with 1 Axes>"
      ]
     },
     "execution_count": 2,
     "metadata": {},
     "output_type": "execute_result"
    }
   ],
   "source": [
    "from qiskit.circuit.library import RealAmplitudes\n",
    "\n",
    "qc = RealAmplitudes(10, reps=0)\n",
    "qc.decompose().draw(\"mpl\", style=\"bw\")"
   ]
  },
  {
   "cell_type": "code",
   "execution_count": 3,
   "metadata": {
    "slideshow": {
     "slide_type": "slide"
    }
   },
   "outputs": [
    {
     "data": {
      "image/png": "[encoded data removed]",
      "text/plain": [
       "<Figure size 1040x869.556 with 1 Axes>"
      ]
     },
     "execution_count": 3,
     "metadata": {},
     "output_type": "execute_result"
    }
   ],
   "source": [
    "qc = RealAmplitudes(10, reps=1)\n",
    "qc.decompose().draw(\"mpl\", style=\"bw\")"
   ]
  },
  {
   "cell_type": "code",
   "execution_count": 46,
   "metadata": {
    "slideshow": {
     "slide_type": "skip"
    }
   },
   "outputs": [],
   "source": [
    "from dataclasses import dataclass\n",
    "\n",
    "\n",
    "@dataclass\n",
    "class ElapsedTime:\n",
    "    name: str\n",
    "    forward: list[float]\n",
    "    gradient: list[float]\n",
    "    forward_avg: float\n",
    "    gradient_avg: float\n",
    "    normalized_exec_time: float\n",
    "\n",
    "\n",
    "def calc_elapsed_time(name, forward, gradient):\n",
    "    forward_avg = np.mean(forward)\n",
    "    gradient_avg = np.mean(gradient)\n",
    "    normalized_exec_time = gradient_avg / forward_avg\n",
    "    return ElapsedTime(\n",
    "        name=name,\n",
    "        forward=forward,\n",
    "        gradient=gradient,\n",
    "        forward_avg=forward_avg,\n",
    "        gradient_avg=gradient_avg,\n",
    "        normalized_exec_time=normalized_exec_time,\n",
    "    )\n",
    "\n",
    "\n",
    "compare_time = {\n",
    "    \"rep0\": [\n",
    "        ElapsedTime(\n",
    "            name=\"opflow_rep0\",\n",
    "            forward=[\n",
    "                0.06511831283569336,\n",
    "                0.02434515953063965,\n",
    "                0.02210402488708496,\n",
    "                0.02234196662902832,\n",
    "                0.02210688591003418,\n",
    "            ],\n",
    "            gradient=[\n",
    "                5.283751964569092,\n",
    "                5.209047079086304,\n",
    "                5.4985339641571045,\n",
    "                5.517637014389038,\n",
    "                5.509497165679932,\n",
    "            ],\n",
    "            forward_avg=0.031203269958496094,\n",
    "            gradient_avg=5.403693437576294,\n",
    "            normalized_exec_time=173.1771524190837,\n",
    "        ),\n",
    "        ElapsedTime(\n",
    "            name=\"primitive_rep0\",\n",
    "            forward=[\n",
    "                0.006824970245361328,\n",
    "                0.005753040313720703,\n",
    "                0.005385160446166992,\n",
    "                0.005394935607910156,\n",
    "                0.0054378509521484375,\n",
    "            ],\n",
    "            gradient=[\n",
    "                0.0878751277923584,\n",
    "                0.08877396583557129,\n",
    "                0.0876309871673584,\n",
    "                0.08665871620178223,\n",
    "                0.08631706237792969,\n",
    "            ],\n",
    "            forward_avg=0.005759191513061523,\n",
    "            gradient_avg=0.087451171875,\n",
    "            normalized_exec_time=15.184626466521499,\n",
    "        ),\n",
    "    ],\n",
    "    \"rep1\": [\n",
    "        ElapsedTime(\n",
    "            name=\"opflow_rep1\",\n",
    "            forward=[\n",
    "                0.03152799606323242,\n",
    "                0.028979063034057617,\n",
    "                0.029180049896240234,\n",
    "                0.031157732009887695,\n",
    "                0.028755903244018555,\n",
    "            ],\n",
    "            gradient=[\n",
    "                14.250807046890259,\n",
    "                14.462125062942505,\n",
    "                14.768449068069458,\n",
    "                14.31602931022644,\n",
    "                14.225275993347168,\n",
    "            ],\n",
    "            forward_avg=0.029920148849487304,\n",
    "            gradient_avg=14.404537296295166,\n",
    "            normalized_exec_time=481.43267497621406,\n",
    "        ),\n",
    "        ElapsedTime(\n",
    "            name=\"primitive_rep1\",\n",
    "            forward=[\n",
    "                0.010058164596557617,\n",
    "                0.00887298583984375,\n",
    "                0.009077072143554688,\n",
    "                0.008844852447509766,\n",
    "                0.00872492790222168,\n",
    "            ],\n",
    "            gradient=[\n",
    "                0.26814794540405273,\n",
    "                0.24917030334472656,\n",
    "                0.24268603324890137,\n",
    "                0.23812294006347656,\n",
    "                0.24033617973327637,\n",
    "            ],\n",
    "            forward_avg=0.0091156005859375,\n",
    "            gradient_avg=0.24769268035888672,\n",
    "            normalized_exec_time=27.172392869099433,\n",
    "        ),\n",
    "    ],\n",
    "    \"rep5\": [\n",
    "        ElapsedTime(\n",
    "            name=\"opflow_rep5\",\n",
    "            forward=[\n",
    "                0.05146980285644531,\n",
    "                0.04968690872192383,\n",
    "                0.049668073654174805,\n",
    "                0.04969286918640137,\n",
    "                0.049581050872802734,\n",
    "            ],\n",
    "            gradient=[\n",
    "                80.1846718788147,\n",
    "                78.70231223106384,\n",
    "                86.17645502090454,\n",
    "                80.7437961101532,\n",
    "                82.51665711402893,\n",
    "            ],\n",
    "            forward_avg=0.05001974105834961,\n",
    "            gradient_avg=81.66477847099304,\n",
    "            normalized_exec_time=1632.6509642608605,\n",
    "        ),\n",
    "        ElapsedTime(\n",
    "            name=\"primitive_rep5\",\n",
    "            forward=[\n",
    "                0.027094125747680664,\n",
    "                0.02516007423400879,\n",
    "                0.024489879608154297,\n",
    "                0.024899959564208984,\n",
    "                0.02542710304260254,\n",
    "            ],\n",
    "            gradient=[\n",
    "                1.954977035522461,\n",
    "                1.73030686378479,\n",
    "                1.6468899250030518,\n",
    "                1.6271309852600098,\n",
    "                1.6472198963165283,\n",
    "            ],\n",
    "            forward_avg=0.025414228439331055,\n",
    "            gradient_avg=1.7213049411773682,\n",
    "            normalized_exec_time=67.72997044889536,\n",
    "        ),\n",
    "    ],\n",
    "    \"rep10\": [\n",
    "        ElapsedTime(\n",
    "            name=\"opflow_rep10\",\n",
    "            forward=[\n",
    "                0.08776998519897461,\n",
    "                0.08373188972473145,\n",
    "                0.08428502082824707,\n",
    "                0.08484101295471191,\n",
    "                0.08399224281311035,\n",
    "            ],\n",
    "            gradient=[\n",
    "                242.2490210533142,\n",
    "                245.59403204917908,\n",
    "                243.77166318893433,\n",
    "                246.31664299964905,\n",
    "                251.7241768836975,\n",
    "            ],\n",
    "            forward_avg=0.08492403030395508,\n",
    "            gradient_avg=245.93110723495482,\n",
    "            normalized_exec_time=2895.895382670049,\n",
    "        ),\n",
    "        ElapsedTime(\n",
    "            name=\"primitive_rep10\",\n",
    "            forward=[\n",
    "                0.052000999450683594,\n",
    "                0.04622912406921387,\n",
    "                0.047102928161621094,\n",
    "                0.04625082015991211,\n",
    "                0.04765200614929199,\n",
    "            ],\n",
    "            gradient=[\n",
    "                4.8781890869140625,\n",
    "                4.677199125289917,\n",
    "                4.344880819320679,\n",
    "                4.341502904891968,\n",
    "                4.194723129272461,\n",
    "            ],\n",
    "            forward_avg=0.04784717559814453,\n",
    "            gradient_avg=4.487299013137817,\n",
    "            normalized_exec_time=93.78398948404867,\n",
    "        ),\n",
    "    ],\n",
    "}"
   ]
  },
  {
   "cell_type": "code",
   "execution_count": 70,
   "metadata": {
    "slideshow": {
     "slide_type": "skip"
    }
   },
   "outputs": [],
   "source": [
    "x = [0, 1, 5, 10]\n",
    "# opflow_forward = [v[0].forward_avg for k, v in compare_time.items()]\n",
    "opflow_gradient = [v[0].gradient_avg for k, v in compare_time.items()]\n",
    "primitive_gradient = [v[1].gradient_avg for k, v in compare_time.items()]\n",
    "\n",
    "grad_bench, ax = plt.subplots()\n",
    "\n",
    "# Using set_dashes() to modify dashing of an existing line\n",
    "(line1,) = ax.plot(x, opflow_gradient, \"go--\", label=\"opflow gradient avg.\")\n",
    "# line1.set_dashes([2, 2, 10, 2])  # 2pt line, 2pt break, 10pt line, 2pt break\n",
    "\n",
    "# Using plot(..., dashes=...) to set the dashing when creating a line\n",
    "(line2,) = ax.plot(x, primitive_gradient, \"o--\", label=\"primitive gradient avg.\")\n",
    "\n",
    "ax.set(xlabel=\"Circuit depth\", ylabel=\"Time [s]\", title=\"Total gradient runtime\")\n",
    "\n",
    "ax.legend()\n",
    "plt.close()"
   ]
  },
  {
   "cell_type": "code",
   "execution_count": 71,
   "metadata": {
    "slideshow": {
     "slide_type": "slide"
    }
   },
   "outputs": [
    {
     "data": {
      "image/png": "[encoded data removed]",
      "text/plain": [
       "<Figure size 640x480 with 1 Axes>"
      ]
     },
     "execution_count": 71,
     "metadata": {},
     "output_type": "execute_result"
    }
   ],
   "source": [
    "grad_bench"
   ]
  },
  {
   "cell_type": "code",
   "execution_count": 72,
   "metadata": {
    "slideshow": {
     "slide_type": "skip"
    }
   },
   "outputs": [],
   "source": [
    "x = [0, 1, 5, 10]\n",
    "# opflow_forward = [v[0].forward_avg for k, v in compare_time.items()]\n",
    "opflow_gradient = [v[0].normalized_exec_time for k, v in compare_time.items()]\n",
    "primitive_gradient = [v[1].normalized_exec_time for k, v in compare_time.items()]\n",
    "\n",
    "grad_bench_2, ax = plt.subplots()\n",
    "\n",
    "# Using set_dashes() to modify dashing of an existing line\n",
    "(line1,) = ax.plot(x, opflow_gradient, \"go--\", label=\"opflow normalized exec time\")\n",
    "# line1.set_dashes([2, 2, 10, 2])  # 2pt line, 2pt break, 10pt line, 2pt break\n",
    "\n",
    "# Using plot(..., dashes=...) to set the dashing when creating a line\n",
    "(line2,) = ax.plot(x, primitive_gradient, \"o--\", label=\"primitive normalized exec time\")\n",
    "\n",
    "ax.set(xlabel=\"Circuit depth\", ylabel=\"Time [s]\", title=\"Normalized gradient runtime\")\n",
    "\n",
    "ax.legend()\n",
    "plt.close()"
   ]
  },
  {
   "cell_type": "code",
   "execution_count": 73,
   "metadata": {
    "slideshow": {
     "slide_type": "slide"
    }
   },
   "outputs": [
    {
     "data": {
      "image/png": "[encoded data removed]",
      "text/plain": [
       "<Figure size 640x480 with 1 Axes>"
      ]
     },
     "execution_count": 73,
     "metadata": {},
     "output_type": "execute_result"
    }
   ],
   "source": [
    "grad_bench_2"
   ]
  },
  {
   "cell_type": "markdown",
   "metadata": {
    "slideshow": {
     "slide_type": "slide"
    }
   },
   "source": [
    "## Case Study: `FidelityQuantumKernel`"
   ]
  },
  {
   "cell_type": "code",
   "execution_count": 3,
   "metadata": {
    "slideshow": {
     "slide_type": "skip"
    }
   },
   "outputs": [],
   "source": [
    "from qiskit_machine_learning.datasets import ad_hoc_data\n",
    "\n",
    "adhoc_dimension = 2\n",
    "train_features, train_labels, test_features, test_labels, adhoc_total = ad_hoc_data(\n",
    "    training_size=20,\n",
    "    test_size=5,\n",
    "    n=adhoc_dimension,\n",
    "    gap=0.3,\n",
    "    plot_data=False,\n",
    "    one_hot=False,\n",
    "    include_sample_total=True,\n",
    ")"
   ]
  },
  {
   "cell_type": "code",
   "execution_count": 4,
   "metadata": {
    "slideshow": {
     "slide_type": "skip"
    }
   },
   "outputs": [],
   "source": [
    "from matplotlib import pyplot as plt\n",
    "import numpy as np\n",
    "\n",
    "dataset_fig = plt.figure(figsize=(5, 5))\n",
    "plt.ylim(0, 2 * np.pi)\n",
    "plt.xlim(0, 2 * np.pi)\n",
    "plt.imshow(\n",
    "    np.asmatrix(adhoc_total).T,\n",
    "    interpolation=\"nearest\",\n",
    "    origin=\"lower\",\n",
    "    cmap=\"RdBu\",\n",
    "    extent=[0, 2 * np.pi, 0, 2 * np.pi],\n",
    ")\n",
    "plt.title(\"Ad hoc dataset for classification\")\n",
    "plt.close()"
   ]
  },
  {
   "cell_type": "code",
   "execution_count": 5,
   "metadata": {},
   "outputs": [
    {
     "data": {
      "image/png": "[encoded data removed]",
      "text/plain": [
       "<Figure size 500x500 with 1 Axes>"
      ]
     },
     "execution_count": 5,
     "metadata": {},
     "output_type": "execute_result"
    }
   ],
   "source": [
    "dataset_fig"
   ]
  },
  {
   "cell_type": "code",
   "execution_count": 7,
   "metadata": {
    "slideshow": {
     "slide_type": "slide"
    }
   },
   "outputs": [
    {
     "data": {
      "image/png": "[encoded data removed]",
      "text/plain": [
       "<Figure size 370.906x200.667 with 1 Axes>"
      ]
     },
     "execution_count": 7,
     "metadata": {},
     "output_type": "execute_result"
    }
   ],
   "source": [
    "from qiskit.circuit.library import ZZFeatureMap\n",
    "\n",
    "adhoc_feature_map = ZZFeatureMap(\n",
    "    feature_dimension=adhoc_dimension, reps=2, entanglement=\"linear\"\n",
    ")\n",
    "adhoc_feature_map.draw(\"mpl\", style=\"bw\")"
   ]
  },
  {
   "cell_type": "code",
   "execution_count": 8,
   "metadata": {
    "slideshow": {
     "slide_type": "slide"
    }
   },
   "outputs": [
    {
     "name": "stdout",
     "output_type": "stream",
     "text": [
      "QSVC classification test score: 1.0\n"
     ]
    }
   ],
   "source": [
    "from qiskit_ibm_runtime import Sampler, Session, QiskitRuntimeService\n",
    "from qiskit_machine_learning.algorithms import QSVC\n",
    "from qiskit.algorithms.state_fidelities import ComputeUncompute\n",
    "from qiskit_machine_learning.kernels import FidelityQuantumKernel\n",
    "\n",
    "adhoc_matrix_train, adhoc_matrix_test = [], []\n",
    "service = QiskitRuntimeService(channel=\"ibm_quantum\")\n",
    "with Session(service=service, backend=\"simulator_statevector\") as session:\n",
    "\n",
    "    sampler = Sampler(session=session)\n",
    "    fidelity = ComputeUncompute(sampler=sampler)\n",
    "    adhoc_kernel = FidelityQuantumKernel(\n",
    "        fidelity=fidelity, feature_map=adhoc_feature_map\n",
    "    )\n",
    "    qsvc = QSVC(quantum_kernel=adhoc_kernel)\n",
    "    qsvc.fit(train_features, train_labels)\n",
    "    qsvc_score = qsvc.score(test_features, test_labels)\n",
    "    print(f\"QSVC classification test score: {qsvc_score}\")\n",
    "\n",
    "    adhoc_matrix_train = adhoc_kernel.evaluate(x_vec=train_features)\n",
    "    adhoc_matrix_test = adhoc_kernel.evaluate(x_vec=test_features, y_vec=train_features)"
   ]
  },
  {
   "cell_type": "code",
   "execution_count": 9,
   "metadata": {
    "slideshow": {
     "slide_type": "skip"
    }
   },
   "outputs": [],
   "source": [
    "plt.rcParams.update({\"font.size\": 10})\n",
    "\n",
    "adhoc_fig, axs = plt.subplots(1, 2, figsize=(10, 5))\n",
    "axs[0].imshow(\n",
    "    np.asmatrix(adhoc_matrix_train),\n",
    "    interpolation=\"nearest\",\n",
    "    origin=\"upper\",\n",
    "    cmap=\"Blues\",\n",
    ")\n",
    "axs[0].set_title(\"Ad hoc training kernel matrix\")\n",
    "axs[1].imshow(\n",
    "    np.asmatrix(adhoc_matrix_test), interpolation=\"nearest\", origin=\"upper\", cmap=\"Reds\"\n",
    ")\n",
    "axs[1].set_title(\"Ad hoc testing kernel matrix\")\n",
    "plt.close()"
   ]
  },
  {
   "cell_type": "code",
   "execution_count": 13,
   "metadata": {
    "slideshow": {
     "slide_type": "slide"
    }
   },
   "outputs": [
    {
     "name": "stdout",
     "output_type": "stream",
     "text": [
      "Precomputed kernel classification test score: 1.0\n"
     ]
    }
   ],
   "source": [
    "from sklearn.svm import SVC\n",
    "\n",
    "adhoc_svc = SVC(kernel=\"precomputed\")\n",
    "adhoc_svc.fit(adhoc_matrix_train, train_labels)\n",
    "adhoc_score = adhoc_svc.score(adhoc_matrix_test, test_labels)\n",
    "print(f\"Precomputed kernel classification test score: {adhoc_score}\")"
   ]
  },
  {
   "cell_type": "code",
   "execution_count": 14,
   "metadata": {},
   "outputs": [
    {
     "data": {
      "image/png": "[encoded data removed]",
      "text/plain": [
       "<Figure size 1000x500 with 2 Axes>"
      ]
     },
     "execution_count": 14,
     "metadata": {},
     "output_type": "execute_result"
    }
   ],
   "source": [
    "adhoc_fig"
   ]
  },
  {
   "cell_type": "markdown",
   "metadata": {
    "slideshow": {
     "slide_type": "slide"
    }
   },
   "source": [
    "<a id='nature'></a>\n",
    "\n",
    "<font color='gray'> 1. Introduction</font> \n",
    "\n",
    "<font color='gray'> 2. Algorithms\n",
    "\n",
    "<font color='gray'> 3. Applications: Machine Learning. Performance</font> \n",
    "\n",
    "# 4. Applications: Nature. Performance\n",
    "\n",
    "<font color='gray'>5. Wrap-Up</font>"
   ]
  },
  {
   "cell_type": "markdown",
   "metadata": {
    "slideshow": {
     "slide_type": "skip"
    }
   },
   "source": [
    "[Top](#top)"
   ]
  },
  {
   "cell_type": "markdown",
   "metadata": {
    "slideshow": {
     "slide_type": "slide"
    }
   },
   "source": [
    "<img src=\"imgs/electronic-pipeline.png\" width = 1300 height=1300 />"
   ]
  },
  {
   "cell_type": "markdown",
   "metadata": {
    "slideshow": {
     "slide_type": "slide"
    }
   },
   "source": [
    "<img src=\"imgs/nature.png\" width = 1300 height=1300 />"
   ]
  },
  {
   "cell_type": "markdown",
   "metadata": {
    "slideshow": {
     "slide_type": "slide"
    }
   },
   "source": [
    "## Electronic Structure"
   ]
  },
  {
   "cell_type": "markdown",
   "metadata": {
    "slideshow": {
     "slide_type": "-"
    }
   },
   "source": [
    "### Driver-based: Qiskit Nature controls the classical code"
   ]
  },
  {
   "cell_type": "code",
   "execution_count": 1,
   "metadata": {
    "slideshow": {
     "slide_type": "-"
    }
   },
   "outputs": [],
   "source": [
    "from qiskit_nature.second_q.drivers import PySCFDriver\n",
    "\n",
    "driver = PySCFDriver(atom=\"Li 0 0 0; H 0 0 2.5\", basis=\"sto-3g\")\n",
    "\n",
    "problem = driver.run()"
   ]
  },
  {
   "cell_type": "code",
   "execution_count": 2,
   "metadata": {
    "slideshow": {
     "slide_type": "fragment"
    }
   },
   "outputs": [],
   "source": [
    "from qiskit_nature.second_q.transformers import ActiveSpaceTransformer\n",
    "\n",
    "transformer = ActiveSpaceTransformer(4, 3)\n",
    "\n",
    "problem = transformer.transform(problem)"
   ]
  },
  {
   "cell_type": "code",
   "execution_count": 3,
   "metadata": {
    "slideshow": {
     "slide_type": "fragment"
    }
   },
   "outputs": [],
   "source": [
    "# Legacy: problem = ElectronicStructureProblem(driver, [transformer])"
   ]
  },
  {
   "cell_type": "code",
   "execution_count": 4,
   "metadata": {
    "slideshow": {
     "slide_type": "slide"
    }
   },
   "outputs": [],
   "source": [
    "from qiskit_nature.second_q.mappers import ParityMapper, QubitConverter\n",
    "\n",
    "converter = QubitConverter(ParityMapper(), two_qubit_reduction=True)"
   ]
  },
  {
   "cell_type": "code",
   "execution_count": 5,
   "metadata": {
    "slideshow": {
     "slide_type": "fragment"
    }
   },
   "outputs": [],
   "source": [
    "from qiskit.algorithms.optimizers import SLSQP\n",
    "from qiskit.primitives import Estimator\n",
    "from qiskit_nature.second_q.algorithms import VQEUCCFactory\n",
    "from qiskit_nature.second_q.circuit.library import UCCSD\n",
    "\n",
    "vqe_factory = VQEUCCFactory(Estimator(), UCCSD(), SLSQP())"
   ]
  },
  {
   "cell_type": "code",
   "execution_count": 6,
   "metadata": {
    "slideshow": {
     "slide_type": "fragment"
    }
   },
   "outputs": [],
   "source": [
    "from qiskit_nature.second_q.algorithms import GroundStateEigensolver\n",
    "\n",
    "algorithm = GroundStateEigensolver(converter, vqe_factory)"
   ]
  },
  {
   "cell_type": "code",
   "execution_count": 7,
   "metadata": {
    "slideshow": {
     "slide_type": "slide"
    }
   },
   "outputs": [
    {
     "name": "stdout",
     "output_type": "stream",
     "text": [
      "=== GROUND STATE ENERGY ===\n",
      " \n",
      "* Electronic ground state energy (Hartree): -8.408630223587\n",
      "  - computed part:      -8.408630223587\n",
      "  - ActiveSpaceTransformer extracted energy part: 0.0\n",
      "~ Nuclear repulsion energy (Hartree): 0.635012653104\n",
      "> Total ground state energy (Hartree): -7.773617570483\n",
      " \n",
      "=== MEASURED OBSERVABLES ===\n",
      " \n",
      "  0:  # Particles: 4.000 S: 0.000 S^2: 0.000 M: 0.000\n",
      " \n",
      "=== DIPOLE MOMENTS ===\n",
      " \n",
      "~ Nuclear dipole moment (a.u.): [0.0  0.0  4.72431531]\n",
      " \n",
      "  0: \n",
      "  * Electronic dipole moment (a.u.): [0.0  0.0  6.45524134]\n",
      "    - computed part:      [0.0  0.0  6.45524134]\n",
      "    - ActiveSpaceTransformer extracted energy part: [0.0  0.0  0.0]\n",
      "  > Dipole moment (a.u.): [0.0  0.0  -1.73092603]  Total: 1.73092603\n",
      "                 (debye): [0.0  0.0  -4.39957471]  Total: 4.39957471\n",
      " \n"
     ]
    }
   ],
   "source": [
    "result = algorithm.solve(problem)\n",
    "print(result)"
   ]
  },
  {
   "cell_type": "markdown",
   "metadata": {
    "slideshow": {
     "slide_type": "slide"
    }
   },
   "source": [
    "### Plugin-based: The classical code controls Qiskit Nature"
   ]
  },
  {
   "cell_type": "code",
   "execution_count": 8,
   "metadata": {
    "slideshow": {
     "slide_type": "-"
    }
   },
   "outputs": [
    {
     "name": "stdout",
     "output_type": "stream",
     "text": [
      "converged SCF energy = -7.7708736692219\n"
     ]
    }
   ],
   "source": [
    "from pyscf import gto, scf\n",
    "\n",
    "mol = gto.M(atom=\"Li 0 0 0; H 0 0 2.5\", basis=\"sto-3g\")\n",
    "\n",
    "h_f = scf.RHF(mol).run()"
   ]
  },
  {
   "cell_type": "code",
   "execution_count": 9,
   "metadata": {
    "slideshow": {
     "slide_type": "fragment"
    }
   },
   "outputs": [],
   "source": [
    "from pyscf import mcscf\n",
    "\n",
    "norb, nelec = 3, 4\n",
    "\n",
    "cas = mcscf.CASCI(h_f, norb, nelec)"
   ]
  },
  {
   "cell_type": "code",
   "execution_count": 10,
   "metadata": {
    "slideshow": {
     "slide_type": "slide"
    }
   },
   "outputs": [],
   "source": [
    "from qiskit.algorithms.optimizers import SLSQP\n",
    "from qiskit.primitives import Estimator\n",
    "from qiskit_nature.second_q.algorithms import GroundStateEigensolver, VQEUCCFactory\n",
    "from qiskit_nature.second_q.circuit.library import UCCSD\n",
    "from qiskit_nature.second_q.mappers import ParityMapper, QubitConverter\n",
    "\n",
    "# The same as before...\n",
    "\n",
    "converter = QubitConverter(ParityMapper(), two_qubit_reduction=True)\n",
    "\n",
    "vqe_factory = VQEUCCFactory(Estimator(), UCCSD(), SLSQP())\n",
    "\n",
    "algorithm = GroundStateEigensolver(converter, vqe_factory)"
   ]
  },
  {
   "cell_type": "code",
   "execution_count": 11,
   "metadata": {
    "scrolled": true,
    "slideshow": {
     "slide_type": "fragment"
    }
   },
   "outputs": [
    {
     "name": "stdout",
     "output_type": "stream",
     "text": [
      "CASCI E = -7.77361756473543  E(CI) = -8.40863021783943\n"
     ]
    },
    {
     "data": {
      "text/plain": [
       "<pyscf.mcscf.casci.CASCI at 0x1551c32cbfa0>"
      ]
     },
     "execution_count": 11,
     "metadata": {},
     "output_type": "execute_result"
    }
   ],
   "source": [
    "from qiskit_nature_pyscf import QiskitSolver\n",
    "\n",
    "# we can actually reuse the exact same GroundStateEigensolver from before\n",
    "cas.fcisolver = QiskitSolver(algorithm)\n",
    "cas.run()"
   ]
  },
  {
   "cell_type": "markdown",
   "metadata": {
    "slideshow": {
     "slide_type": "slide"
    }
   },
   "source": [
    "## Primitives benchmark: `VQE`\n",
    "\n",
    "<img src=\"imgs/vqe_bench_1.png\" width = 600 height=600 />"
   ]
  },
  {
   "cell_type": "markdown",
   "metadata": {
    "slideshow": {
     "slide_type": "slide"
    }
   },
   "source": [
    "<img src=\"imgs/vqe_bench_2.png\" width = 800 height=800 />"
   ]
  },
  {
   "cell_type": "markdown",
   "metadata": {
    "slideshow": {
     "slide_type": "slide"
    }
   },
   "source": [
    "## Case study: `AdaptVQE`"
   ]
  },
  {
   "cell_type": "code",
   "execution_count": 12,
   "metadata": {
    "slideshow": {
     "slide_type": "-"
    }
   },
   "outputs": [],
   "source": [
    "from qiskit.algorithms.minimum_eigensolvers import AdaptVQE\n",
    "\n",
    "# let's get the VQE from the factory which we used before\n",
    "vqe = vqe_factory.get_solver(problem, converter)\n",
    "\n",
    "adapt_vqe = AdaptVQE(vqe)\n",
    "\n",
    "# hot fix:\n",
    "adapt_vqe.supports_aux_operators = lambda: True"
   ]
  },
  {
   "cell_type": "code",
   "execution_count": 13,
   "metadata": {
    "slideshow": {
     "slide_type": "slide"
    }
   },
   "outputs": [],
   "source": [
    "from qiskit_nature.second_q.algorithms import GroundStateEigensolver\n",
    "\n",
    "algorithm = GroundStateEigensolver(converter, adapt_vqe)"
   ]
  },
  {
   "cell_type": "code",
   "execution_count": 14,
   "metadata": {
    "slideshow": {
     "slide_type": "fragment"
    }
   },
   "outputs": [
    {
     "name": "stdout",
     "output_type": "stream",
     "text": [
      "CASCI E = -7.77361785074581  E(CI) = -8.40863050384981\n"
     ]
    },
    {
     "data": {
      "text/plain": [
       "<pyscf.mcscf.casci.CASCI at 0x1551c32526d0>"
      ]
     },
     "execution_count": 14,
     "metadata": {},
     "output_type": "execute_result"
    }
   ],
   "source": [
    "adapt_cas = mcscf.CASCI(h_f, norb, nelec)\n",
    "adapt_cas.fcisolver = QiskitSolver(algorithm)\n",
    "adapt_cas.run()"
   ]
  },
  {
   "cell_type": "code",
   "execution_count": 6,
   "metadata": {
    "slideshow": {
     "slide_type": "skip"
    }
   },
   "outputs": [],
   "source": [
    "from matplotlib import pyplot as plt\n",
    "\n",
    "plt.rcParams.update({\"font.size\": 22})\n",
    "\n",
    "benchmark_data = {}\n",
    "benchmark_data[\"Primitives w/ Terra\"] = (12.430068349838256, 0.6087867645499129)\n",
    "benchmark_data[\"BackendPrimitives w/ Aer\"] = (77.39233636856079, 42.532963066206804)\n",
    "benchmark_data[\"Legacy w/ Aer\"] = (3245.9162182807922, None)\n",
    "\n",
    "adapt_vqe_benchmark = plt.figure(figsize=(14, 10))\n",
    "plt.yscale(\"log\")\n",
    "plt.ylabel(\"Time [s]\")\n",
    "plt.xticks([])\n",
    "plt.suptitle(\"Runtime comparison of AdaptVQE\")\n",
    "plt.title(\n",
    "    r\"Li-H ground state @ $2.5\\AA$ w/ UCCSD in CAS(4, 3)\",\n",
    "    fontdict={\"fontsize\": \"small\"},\n",
    ")\n",
    "\n",
    "for x, (key, val) in enumerate(benchmark_data.items()):\n",
    "    plt.bar(\n",
    "        [x],\n",
    "        [val[0]],\n",
    "        [0.5],\n",
    "        yerr=[val[1]] if val[1] is not None else None,\n",
    "        label=key,\n",
    "        color=(0.0, 0.0, 0.33 * (len(benchmark_data) - x), 0.8),\n",
    "        error_kw={\"ecolor\": \"black\", \"elinewidth\": 2.5, \"capsize\": 5.0},\n",
    "    )\n",
    "plt.legend()\n",
    "plt.close()"
   ]
  },
  {
   "cell_type": "code",
   "execution_count": 7,
   "metadata": {
    "scrolled": false,
    "slideshow": {
     "slide_type": "slide"
    }
   },
   "outputs": [
    {
     "data": {
      "image/png": "[encoded data removed]",
      "text/plain": [
       "<Figure size 1400x1000 with 1 Axes>"
      ]
     },
     "execution_count": 7,
     "metadata": {},
     "output_type": "execute_result"
    }
   ],
   "source": [
    "adapt_vqe_benchmark"
   ]
  },
  {
   "cell_type": "markdown",
   "metadata": {
    "slideshow": {
     "slide_type": "slide"
    }
   },
   "source": [
    "## Vibrational Structure"
   ]
  },
  {
   "cell_type": "code",
   "execution_count": 1,
   "metadata": {
    "slideshow": {
     "slide_type": "-"
    }
   },
   "outputs": [],
   "source": [
    "from qiskit_nature.second_q.drivers import GaussianForcesDriver\n",
    "\n",
    "driver = GaussianForcesDriver(\n",
    "    logfile=\"\"\"\n",
    " Input/Output information\n",
    " ------------------------\n",
    " Normal modes will be PRINTED in DESCENDING order (imag. freq. first)\n",
    "   and sorted by irreducible representation\n",
    " The connection between this new numbering (A) and the one used before\n",
    "   (H) is reported in the present equivalency table:\n",
    " ----+------+------+------+------+\n",
    " (H) |     1|     2|     3|     4|\n",
    " (A) |    3a|    3b|     1|     2|\n",
    " ----+------+------+------+------+\n",
    " NOTE: Degenerate modes are referenced by the same number in the following\n",
    "\n",
    "\n",
    " ........................................................\n",
    " :      QUADRATIC FORCE CONSTANTS IN NORMAL MODES       :\n",
    " :                                                      :\n",
    " : FI =  Frequency [cm-1]                               :\n",
    " : k  =  Force Const.[ attoJ * amu(-1) * ang(-2) ]      :\n",
    " : K  =  Force Const.[ Hartrees * amu(-1) * bohr(-2) ]  :\n",
    " :......................................................:\n",
    "\n",
    "      I      J                  FI(I,J)       k(I,J)       K(I,J)\n",
    "\n",
    "     1      1                  1409.20235      1.17003      0.07515\n",
    "     2      2                  2526.46159      3.76076      0.24156\n",
    "     3a     3a                  462.61566      0.12609      0.00810\n",
    "     3b     3b                  462.61566      0.12609      0.00810\n",
    "\n",
    " Num. of 2nd derivatives larger than  0.371D-04: 4 over 10\n",
    "\n",
    " ........................................................\n",
    " :        CUBIC FORCE CONSTANTS IN NORMAL MODES         :\n",
    " :                                                      :\n",
    " : FI =  Reduced values [cm-1]  (default input)         :\n",
    " : k  =  Cubic Force Const.[AttoJ*amu(-3/2)*Ang(-3)]    :\n",
    " : K  =  Cubic Force Const.[Hartree*amu(-3/2)*Bohr(-3)] :\n",
    " :......................................................:\n",
    "\n",
    "      I      J      K          FI(I,J,K)     k(I,J,K)     K(I,J,K)\n",
    "\n",
    "     1      1      1           -260.36071     -1.39757     -0.04750\n",
    "     2      2      1           -498.94440     -4.80163     -0.16320\n",
    "     3a     3a     1            241.40780      0.42540      0.01446\n",
    "     3b     3b     1            241.40780      0.42540      0.01446\n",
    "\n",
    " Num. of 3rd derivatives larger than  0.371D-04: 4 over 20\n",
    "\n",
    " ........................................................\n",
    " :                                                      :\n",
    " :       QUARTIC FORCE CONSTANTS IN NORMAL MODES        :\n",
    " :                                                      :\n",
    " : FI =  Reduced values [cm-1]  (default input)         :\n",
    " : k  =  Quartic Force Const.[AttoJ*amu(-2)*Ang(-4)]    :\n",
    " : K  =  Quartic Force Const.[Hartree*amu(-2)*Bohr(-4)] :\n",
    " :......................................................:\n",
    "\n",
    "      I      J      K      L  FI(I,J,K,L)   k(I,J,K,L)   K(I,J,K,L)\n",
    "\n",
    "     1      1      1      1      40.39062      1.40169      0.02521\n",
    "     2      2      1      1      79.08068      4.92017      0.08850\n",
    "     2      2      2      2     154.78015     17.26491      0.31053\n",
    "     3a     3a     1      1     -67.10879     -0.76453     -0.01375\n",
    "     3b     3b     1      1     -67.10879     -0.76453     -0.01375\n",
    "     3a     3a     2      2    -163.29426     -3.33524     -0.05999\n",
    "     3b     3b     2      2    -163.29426     -3.33524     -0.05999\n",
    "     3a     3a     3a     3a    224.24248      0.83865      0.01508\n",
    "     3a     3a     3a     3b     63.74314      0.23840      0.00429\n",
    "     3a     3a     3b     3b    113.57360      0.42476      0.00764\n",
    "     3a     3b     3b     3b    -63.74314     -0.23840     -0.00429\n",
    "     3b     3b     3b     3b    224.24248      0.83865      0.01508\n",
    "\n",
    " Num. of 4th derivatives larger than  0.371D-04: 12 over 35\n",
    "    \"\"\"\n",
    ")"
   ]
  },
  {
   "cell_type": "code",
   "execution_count": 2,
   "metadata": {
    "slideshow": {
     "slide_type": "slide"
    }
   },
   "outputs": [],
   "source": [
    "from qiskit_nature.second_q.problems import HarmonicBasis\n",
    "\n",
    "basis = HarmonicBasis([2] * 4)"
   ]
  },
  {
   "cell_type": "code",
   "execution_count": 3,
   "metadata": {
    "slideshow": {
     "slide_type": "fragment"
    }
   },
   "outputs": [],
   "source": [
    "problem = driver.run(basis=basis)"
   ]
  },
  {
   "cell_type": "code",
   "execution_count": 4,
   "metadata": {
    "scrolled": true,
    "slideshow": {
     "slide_type": "fragment"
    }
   },
   "outputs": [],
   "source": [
    "from qiskit_nature.second_q.mappers import DirectMapper, QubitConverter\n",
    "\n",
    "converter = QubitConverter(DirectMapper())"
   ]
  },
  {
   "cell_type": "markdown",
   "metadata": {
    "slideshow": {
     "slide_type": "slide"
    }
   },
   "source": [
    "### Case Study: `QEOM`"
   ]
  },
  {
   "cell_type": "code",
   "execution_count": 6,
   "metadata": {
    "scrolled": true,
    "slideshow": {
     "slide_type": "-"
    }
   },
   "outputs": [
    {
     "name": "stdout",
     "output_type": "stream",
     "text": [
      "=== GROUND STATE ===\n",
      " \n",
      "* Vibrational ground state energy (cm^-1): 2432.106964198936\n",
      "The number of occupied modals for each mode is: \n",
      "- Mode 0: 1.0\n",
      "- Mode 1: 1.0\n",
      "- Mode 2: 1.0\n",
      "- Mode 3: 1.0\n",
      " \n",
      "=== EXCITED STATES ===\n",
      " \n",
      "*   1: Vibrational excited state energy (cm^-1): 2908.895868060446\n",
      "The number of occupied modals for each mode is\n",
      "- Mode 0: 1.0\n",
      "- Mode 1: 1.0\n",
      "- Mode 2: 1.0\n",
      "- Mode 3: 1.0\n",
      " \n",
      "*   2: Vibrational excited state energy (cm^-1): 2908.895868061151\n",
      " \n",
      "*   3: Vibrational excited state energy (cm^-1): 3424.401194772566\n",
      " \n",
      "*   4: Vibrational excited state energy (cm^-1): 3842.865097858282\n",
      " \n",
      "*   5: Vibrational excited state energy (cm^-1): 4301.383564066082\n",
      " \n",
      "*   6: Vibrational excited state energy (cm^-1): 4301.383564066493\n",
      " \n",
      "*   7: Vibrational excited state energy (cm^-1): 4913.942078738834\n",
      " \n",
      "*   8: Vibrational excited state energy (cm^-1): 5375.87546026113\n",
      " \n",
      "*   9: Vibrational excited state energy (cm^-1): 5375.875460262008\n",
      " \n",
      "*  10: Vibrational excited state energy (cm^-1): 6410.541400890737\n",
      " \n"
     ]
    }
   ],
   "source": [
    "from qiskit.algorithms.optimizers import SLSQP\n",
    "from qiskit_nature.second_q.algorithms.excited_states_solvers import QEOM\n",
    "from qiskit_nature.second_q.algorithms.ground_state_solvers import (\n",
    "    GroundStateEigensolver,\n",
    "    VQEUVCCFactory,\n",
    ")\n",
    "from qiskit_nature.second_q.circuit.library import UVCCSD\n",
    "from qiskit_ibm_runtime import Estimator, Session, QiskitRuntimeService\n",
    "\n",
    "service = QiskitRuntimeService(channel=\"ibm_quantum\")\n",
    "\n",
    "with Session(service, backend=\"simulator_statevector\") as session:\n",
    "\n",
    "    estimator = Estimator()\n",
    "    vqe_factory = VQEUVCCFactory(estimator, UVCCSD(), SLSQP())\n",
    "\n",
    "    gse = GroundStateEigensolver(converter, vqe_factory)\n",
    "\n",
    "    qeom = QEOM(gse, estimator, \"sd\")\n",
    "\n",
    "    result = qeom.solve(problem)\n",
    "    print(result)"
   ]
  },
  {
   "cell_type": "markdown",
   "metadata": {
    "slideshow": {
     "slide_type": "slide"
    }
   },
   "source": [
    "### Case study: `VQD`"
   ]
  },
  {
   "cell_type": "code",
   "execution_count": 8,
   "metadata": {
    "slideshow": {
     "slide_type": "-"
    }
   },
   "outputs": [
    {
     "name": "stdout",
     "output_type": "stream",
     "text": [
      "=== GROUND STATE ===\n",
      " \n",
      "* Vibrational ground state energy (cm^-1): (2432.107243554602+0j)\n",
      "The number of occupied modals for each mode is: \n",
      "- Mode 0: 1.0\n",
      "- Mode 1: 1.0\n",
      "- Mode 2: 1.0\n",
      "- Mode 3: 1.0\n",
      " \n",
      "=== EXCITED STATES ===\n",
      " \n",
      "*   1: Vibrational excited state energy (cm^-1): (2902.107445851352+0j)\n",
      "The number of occupied modals for each mode is\n",
      "- Mode 0: 1.0\n",
      "- Mode 1: 1.0\n",
      "- Mode 2: 1.0\n",
      "- Mode 3: 1.0\n",
      " \n"
     ]
    }
   ],
   "source": [
    "from qiskit.algorithms.eigensolvers import VQD\n",
    "from qiskit.algorithms.state_fidelities import ComputeUncompute\n",
    "from qiskit.algorithms.optimizers import SLSQP\n",
    "from qiskit_nature.second_q.algorithms.excited_states_solvers import ExcitedStatesEigensolver\n",
    "from qiskit_nature.second_q.algorithms.initial_points import VSCFInitialPoint\n",
    "from qiskit_nature.second_q.circuit.library import UVCCSD, VSCF\n",
    "from qiskit_ibm_runtime import Sampler, Estimator, Session, QiskitRuntimeService\n",
    "\n",
    "ansatz = UVCCSD()\n",
    "ansatz.num_modals = basis.num_modals\n",
    "ansatz.qubit_converter = converter\n",
    "ansatz.initial_state = VSCF(basis.num_modals, converter)\n",
    "\n",
    "service = QiskitRuntimeService(channel=\"ibm_quantum\")\n",
    "with Session(service, backend=\"simulator_statevector\") as session:\n",
    "\n",
    "    vqd = VQD(Estimator(session=session), ComputeUncompute(Sampler(session=session)), ansatz, SLSQP(), k=2)\n",
    "    vqd.initial_point = VSCFInitialPoint().compute(ansatz=ansatz)\n",
    "    \n",
    "    algorithm = ExcitedStatesEigensolver(converter, vqd)\n",
    "    \n",
    "    result = algorithm.solve(problem)\n",
    "    print(result)"
   ]
  },
  {
   "cell_type": "markdown",
   "metadata": {
    "slideshow": {
     "slide_type": "slide"
    }
   },
   "source": [
    "## Lattice Models"
   ]
  },
  {
   "cell_type": "markdown",
   "metadata": {
    "slideshow": {
     "slide_type": "-"
    }
   },
   "source": [
    "### Building Lattices"
   ]
  },
  {
   "cell_type": "code",
   "execution_count": 1,
   "metadata": {
    "slideshow": {
     "slide_type": "-"
    }
   },
   "outputs": [],
   "source": [
    "from qiskit_nature.second_q.hamiltonians.lattices import (\n",
    "    BoundaryCondition,\n",
    "    LineLattice,\n",
    "    SquareLattice,\n",
    "    TriangularLattice,\n",
    "    HyperCubicLattice,\n",
    ")"
   ]
  },
  {
   "cell_type": "code",
   "execution_count": 2,
   "metadata": {
    "slideshow": {
     "slide_type": "slide"
    }
   },
   "outputs": [
    {
     "data": {
      "image/png": "[encoded data removed]",
      "text/plain": [
       "<Figure size 432x288 with 1 Axes>"
      ]
     },
     "metadata": {},
     "output_type": "display_data"
    }
   ],
   "source": [
    "lattice = LineLattice(12)\n",
    "lattice.draw()"
   ]
  },
  {
   "cell_type": "code",
   "execution_count": 3,
   "metadata": {
    "slideshow": {
     "slide_type": "fragment"
    }
   },
   "outputs": [
    {
     "data": {
      "image/png": "[encoded data removed]",
      "text/plain": [
       "<Figure size 432x288 with 1 Axes>"
      ]
     },
     "metadata": {},
     "output_type": "display_data"
    }
   ],
   "source": [
    "# single \"heavy hex\"\n",
    "lattice = LineLattice(12, boundary_condition=BoundaryCondition.PERIODIC)\n",
    "lattice.draw()"
   ]
  },
  {
   "cell_type": "code",
   "execution_count": 4,
   "metadata": {
    "slideshow": {
     "slide_type": "slide"
    }
   },
   "outputs": [
    {
     "data": {
      "image/png": "[encoded data removed]",
      "text/plain": [
       "<Figure size 432x288 with 1 Axes>"
      ]
     },
     "metadata": {},
     "output_type": "display_data"
    }
   ],
   "source": [
    "lattice = SquareLattice(4, 4)\n",
    "lattice.draw()"
   ]
  },
  {
   "cell_type": "code",
   "execution_count": 5,
   "metadata": {
    "slideshow": {
     "slide_type": "fragment"
    }
   },
   "outputs": [
    {
     "data": {
      "image/png": "[encoded data removed]",
      "text/plain": [
       "<Figure size 432x288 with 1 Axes>"
      ]
     },
     "metadata": {},
     "output_type": "display_data"
    }
   ],
   "source": [
    "lattice = SquareLattice(4, 4, boundary_condition=BoundaryCondition.PERIODIC)\n",
    "lattice.draw()"
   ]
  },
  {
   "cell_type": "markdown",
   "metadata": {
    "slideshow": {
     "slide_type": "slide"
    }
   },
   "source": [
    "### Applying Models"
   ]
  },
  {
   "cell_type": "code",
   "execution_count": 6,
   "metadata": {
    "scrolled": true,
    "slideshow": {
     "slide_type": "-"
    }
   },
   "outputs": [
    {
     "name": "stdout",
     "output_type": "stream",
     "text": [
      "Spin Operator\n",
      "spin=1/2, number spins=3, number terms=5\n",
      "  1 * ( Z_0 Z_1 )\n",
      "+ 1 * ( Z_1 Z_2 )\n",
      "+ 2 * ( X_0 )\n",
      "+ 2 * ( X_1 )\n",
      "+ 2 * ( X_2 )\n"
     ]
    }
   ],
   "source": [
    "from qiskit_nature.second_q.hamiltonians import IsingModel\n",
    "\n",
    "ising = IsingModel(LineLattice(3).uniform_parameters(1, 2))\n",
    "print(ising.second_q_op())"
   ]
  },
  {
   "cell_type": "code",
   "execution_count": 7,
   "metadata": {
    "slideshow": {
     "slide_type": "slide"
    }
   },
   "outputs": [
    {
     "name": "stdout",
     "output_type": "stream",
     "text": [
      "Spin Operator\n",
      "spin=1/2, number spins=3, number terms=5\n",
      "  2.0 * ( X_0 X_1 )\n",
      "+ 2.0 * ( X_1 X_2 )\n",
      "+ 1.5 * ( X_0 )\n",
      "+ 1.5 * ( X_1 )\n",
      "+ 1.5 * ( X_2 )\n"
     ]
    }
   ],
   "source": [
    "from qiskit_nature.second_q.hamiltonians import HeisenbergModel\n",
    "\n",
    "heisenberg = HeisenbergModel(\n",
    "    LineLattice(3).uniform_parameters(1, 2),\n",
    "    coupling_constants=(2.0, 0.0, 0.0),\n",
    "    ext_magnetic_field=(1.5, 0.0, 0.0),\n",
    ")\n",
    "print(heisenberg.second_q_op())"
   ]
  },
  {
   "cell_type": "code",
   "execution_count": 8,
   "metadata": {
    "slideshow": {
     "slide_type": "slide"
    }
   },
   "outputs": [
    {
     "name": "stdout",
     "output_type": "stream",
     "text": [
      "Fermionic Operator\n",
      "number spin orbitals=6, number terms=17\n",
      "  1 * ( +_0 -_2 )\n",
      "+ -1 * ( -_0 +_2 )\n",
      "+ 1 * ( +_2 -_4 )\n",
      "+ -1 * ( -_2 +_4 )\n",
      "+ 2 * ( +_0 -_0 )\n",
      "+ 2 * ( +_2 -_2 )\n",
      "+ 2 * ( +_4 -_4 )\n",
      "+ 1 * ( +_1 -_3 )\n",
      "+ -1 * ( -_1 +_3 )\n",
      "+ 1 * ( +_3 -_5 )\n",
      "+ -1 * ( -_3 +_5 )\n",
      "+ 2 * ( +_1 -_1 )\n",
      "+ 2 * ( +_3 -_3 )\n",
      "+ 2 * ( +_5 -_5 )\n",
      "+ 2.0 * ( +_0 -_0 +_1 -_1 )\n",
      "+ 2.0 * ( +_2 -_2 +_3 -_3 )\n",
      "+ 2.0 * ( +_4 -_4 +_5 -_5 )\n"
     ]
    }
   ],
   "source": [
    "from qiskit_nature.second_q.hamiltonians import FermiHubbardModel\n",
    "\n",
    "fermi_hubbard = FermiHubbardModel(\n",
    "    LineLattice(3).uniform_parameters(1, 2),\n",
    "    onsite_interaction=2.0,\n",
    ")\n",
    "print(fermi_hubbard.second_q_op())"
   ]
  },
  {
   "cell_type": "markdown",
   "metadata": {
    "slideshow": {
     "slide_type": "slide"
    }
   },
   "source": [
    "<img src=\"imgs/dynamics.png\" width = 1300 height=1300 />"
   ]
  },
  {
   "cell_type": "code",
   "execution_count": 9,
   "metadata": {
    "slideshow": {
     "slide_type": "slide"
    }
   },
   "outputs": [],
   "source": [
    "from qiskit_nature.second_q.mappers import LogarithmicMapper\n",
    "\n",
    "mapper = LogarithmicMapper()\n",
    "\n",
    "qubit_op = mapper.map(ising.second_q_op())"
   ]
  },
  {
   "cell_type": "code",
   "execution_count": 13,
   "metadata": {
    "slideshow": {
     "slide_type": "fragment"
    }
   },
   "outputs": [],
   "source": [
    "from qiskit_nature.second_q.operators import SpinOp\n",
    "\n",
    "mag_z = mapper.map(SpinOp({f\"Z_{idx}\": 1 / 3 for idx in range(3)}))\n",
    "mag_x = mapper.map(SpinOp({f\"X_{idx}\": 1 / 3 for idx in range(3)}))"
   ]
  },
  {
   "cell_type": "code",
   "execution_count": 14,
   "metadata": {
    "slideshow": {
     "slide_type": "fragment"
    }
   },
   "outputs": [],
   "source": [
    "from qiskit.algorithms import TimeEvolutionProblem\n",
    "\n",
    "observables = [qubit_op, mag_z, mag_x]\n",
    "\n",
    "problem = TimeEvolutionProblem(qubit_op, time=2, aux_operators=observables)"
   ]
  },
  {
   "cell_type": "code",
   "execution_count": 15,
   "metadata": {
    "slideshow": {
     "slide_type": "slide"
    }
   },
   "outputs": [],
   "source": [
    "from qiskit.circuit.library import TwoLocal\n",
    "\n",
    "ansatz = TwoLocal(\n",
    "    3,\n",
    "    rotation_blocks=\"rx\",\n",
    "    entanglement_blocks=\"rzz\",\n",
    "    entanglement=\"pairwise\",\n",
    "    insert_barriers=True,\n",
    "    reps=2,\n",
    ")"
   ]
  },
  {
   "cell_type": "code",
   "execution_count": 16,
   "metadata": {
    "slideshow": {
     "slide_type": "-"
    }
   },
   "outputs": [
    {
     "data": {
      "image/png": "[encoded data removed]",
      "text/plain": [
       "<Figure size 989.597x204.68 with 1 Axes>"
      ]
     },
     "execution_count": 16,
     "metadata": {},
     "output_type": "execute_result"
    }
   ],
   "source": [
    "ansatz.decompose().draw(\"mpl\", style=\"bw\")"
   ]
  },
  {
   "cell_type": "code",
   "execution_count": 17,
   "metadata": {
    "slideshow": {
     "slide_type": "slide"
    }
   },
   "outputs": [],
   "source": [
    "import numpy as np\n",
    "\n",
    "initial_parameters = np.zeros(ansatz.num_parameters)"
   ]
  },
  {
   "cell_type": "code",
   "execution_count": 18,
   "metadata": {
    "slideshow": {
     "slide_type": "fragment"
    }
   },
   "outputs": [],
   "source": [
    "from qiskit.algorithms.optimizers import L_BFGS_B\n",
    "from qiskit.algorithms.time_evolvers.pvqd import PVQD\n",
    "from qiskit.algorithms.state_fidelities import ComputeUncompute\n",
    "from qiskit_ibm_runtime import Sampler, Estimator, Session, QiskitRuntimeService\n",
    "\n",
    "service = QiskitRuntimeService(channel=\"ibm_quantum\")\n",
    "\n",
    "with Session(service, backend=\"simulator_statevector\") as session:\n",
    "    sampler = Sampler(session=session)\n",
    "    estimator = Estimator(session=session)\n",
    "    fidelity = ComputeUncompute(sampler)\n",
    "\n",
    "    pvqd = PVQD(\n",
    "        fidelity,\n",
    "        ansatz,\n",
    "        initial_parameters,\n",
    "        estimator=estimator,\n",
    "        optimizer=L_BFGS_B(),\n",
    "        num_timesteps=100,\n",
    "    )\n",
    "\n",
    "    result = pvqd.evolve(problem)"
   ]
  },
  {
   "cell_type": "code",
   "execution_count": 21,
   "metadata": {
    "slideshow": {
     "slide_type": "skip"
    }
   },
   "outputs": [],
   "source": [
    "from scipy.linalg import expm\n",
    "\n",
    "observable_matrices = [op.to_matrix() for op in observables]\n",
    "\n",
    "init_state = np.zeros(8)\n",
    "init_state[0] = 1\n",
    "\n",
    "exact = []\n",
    "for t in result.times:\n",
    "    exact.append(expm(observable_matrices[0] * -1j * t).dot(init_state))"
   ]
  },
  {
   "cell_type": "code",
   "execution_count": null,
   "metadata": {
    "slideshow": {
     "slide_type": "skip"
    }
   },
   "outputs": [],
   "source": [
    "from matplotlib import pyplot as plt\n",
    "\n",
    "plt.rcParams.update({\"font.size\": 22})\n",
    "\n",
    "time_evolution, axs = plt.subplots(1, 3, figsize=(21, 7))\n",
    "\n",
    "titles = [\"Energy\", \"Mag. Z\", \"Mag. X\"]\n",
    "for i, title in enumerate(titles):\n",
    "    axs[i].set_title(title)\n",
    "    axs[i].set_xlabel(\"Time [s]\")\n",
    "    axs[i].plot(\n",
    "        result.times,\n",
    "        [np.real(s.conj().dot(observable_matrices[i].dot(s))) for s in exact],\n",
    "        label=\"Exact\",\n",
    "    )\n",
    "    axs[i].plot(\n",
    "        result.times,\n",
    "        [x[i] for x in result.observables],\n",
    "        label=\"PVQD\",\n",
    "    )\n",
    "    axs[i]\n",
    "    axs[i].legend()\n",
    "\n",
    "plt.close()"
   ]
  },
  {
   "cell_type": "code",
   "execution_count": 23,
   "metadata": {
    "slideshow": {
     "slide_type": "slide"
    }
   },
   "outputs": [
    {
     "data": {
      "image/png": "[encoded data removed]",
      "text/plain": [
       "<Figure size 1512x504 with 3 Axes>"
      ]
     },
     "execution_count": 23,
     "metadata": {},
     "output_type": "execute_result"
    }
   ],
   "source": [
    "time_evolution"
   ]
  },
  {
   "cell_type": "markdown",
   "metadata": {
    "slideshow": {
     "slide_type": "slide"
    }
   },
   "source": [
    "<a id='wrapup'></a>\n",
    "\n",
    "<font color='gray'> 1. Introduction</font> \n",
    "\n",
    "<font color='gray'> 2. Algorithms\n",
    "\n",
    "<font color='gray'> 3. Applications: Machine Learning. Performance</font> \n",
    "\n",
    "<font color='gray'> 4. Applications: Nature. Performance</font> \n",
    "\n",
    "# 5. Wrap-Up"
   ]
  },
  {
   "cell_type": "markdown",
   "metadata": {
    "slideshow": {
     "slide_type": "skip"
    }
   },
   "source": [
    "[Top](#top)"
   ]
  },
  {
   "cell_type": "markdown",
   "metadata": {
    "slideshow": {
     "slide_type": "slide"
    }
   },
   "source": [
    "<img src=\"imgs/wrap_up.png\" width = 1500 height=1500 />"
   ]
  },
  {
   "cell_type": "code",
   "execution_count": 1,
   "metadata": {
    "slideshow": {
     "slide_type": "skip"
    }
   },
   "outputs": [
    {
     "data": {
      "text/html": [
       "<h3>Version Information</h3><table><tr><th>Qiskit Software</th><th>Version</th></tr><tr><td><code>qiskit-terra</code></td><td>0.23.0.dev0+3ce1737</td></tr><tr><td><code>qiskit-aer</code></td><td>0.11.0</td></tr><tr><td><code>qiskit-ibmq-provider</code></td><td>0.19.2</td></tr><tr><td><code>qiskit</code></td><td>0.39.0</td></tr><tr><td><code>qiskit-nature</code></td><td>0.5.0</td></tr><tr><td><code>qiskit-machine-learning</code></td><td>0.5.0</td></tr><tr><th>System information</th></tr><tr><td>Python version</td><td>3.9.13</td></tr><tr><td>Python compiler</td><td>Clang 12.0.0 </td></tr><tr><td>Python build</td><td>main, Oct 13 2022 16:12:30</td></tr><tr><td>OS</td><td>Darwin</td></tr><tr><td>CPUs</td><td>8</td></tr><tr><td>Memory (Gb)</td><td>64.0</td></tr><tr><td colspan='2'>Mon Nov 07 18:00:23 2022 CET</td></tr></table>"
      ],
      "text/plain": [
       "<IPython.core.display.HTML object>"
      ]
     },
     "metadata": {},
     "output_type": "display_data"
    },
    {
     "data": {
      "text/html": [
       "<div style='width: 100%; background-color:#d5d9e0;padding-left: 10px; padding-bottom: 10px; padding-right: 10px; padding-top: 5px'><h3>This code is a part of Qiskit</h3><p>&copy; Copyright IBM 2017, 2022.</p><p>This code is licensed under the Apache License, Version 2.0. You may<br>obtain a copy of this license in the LICENSE.txt file in the root directory<br> of this source tree or at http://www.apache.org/licenses/LICENSE-2.0.<p>Any modifications or derivative works of this code must retain this<br>copyright notice, and modified files need to carry a notice indicating<br>that they have been altered from the originals.</p></div>"
      ],
      "text/plain": [
       "<IPython.core.display.HTML object>"
      ]
     },
     "metadata": {},
     "output_type": "display_data"
    }
   ],
   "source": [
    "import qiskit.tools.jupyter\n",
    "\n",
    "%qiskit_version_table\n",
    "%qiskit_copyright"
   ]
  }
 ],
 "metadata": {
  "celltoolbar": "Slideshow",
  "kernelspec": {
   "display_name": "Python 3 (ipykernel)",
   "language": "python",
   "name": "python3"
  },
  "language_info": {
   "codemirror_mode": {
    "name": "ipython",
    "version": 3
   },
   "file_extension": ".py",
   "mimetype": "text/x-python",
   "name": "python",
   "nbconvert_exporter": "python",
   "pygments_lexer": "ipython3",
   "version": "3.9.13"
  }
 },
 "nbformat": 4,
 "nbformat_minor": 1
}
