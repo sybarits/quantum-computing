{
 "cells": [
  {
   "cell_type": "markdown",
   "id": "978d83ac-86ca-4fb3-8b43-81c02c7be120",
   "metadata": {},
   "source": [
    "# Quantum serverless\n",
    "\n",
    "Structure:\n",
    "\n",
    "- background, motivation and goals\n",
    "- building blocks of distributed computation\n",
    "- resource allocation and execution management\n",
    "- assembling all together\n",
    "- electronic structure problem example\n",
    "- infrastructure\n",
    "- links and references"
   ]
  },
  {
   "cell_type": "markdown",
   "id": "0d5fbcfb-f32d-4203-98aa-ceac59924351",
   "metadata": {},
   "source": [
    "## Background, motivation and goals\n",
    "\n",
    "**Background and motivation**\n",
    "\n",
    "Today a lot of experiments are happening on a local machines or on manually allocated remote resources. This approach is not scalable and we need to give users a tool to run quantum-classical workloads without worrying about allocating and managing underlying infrastructure.\n",
    "\n",
    "To achieve the quantum advantage we need to figure out mechanism to combine Classical + Quantum computation, and how orchestrate it.\n",
    "\n",
    "\n",
    "**Goals**\n",
    "\n",
    "Create a set of tools that allow user to execute hybrid workloads (combine/orchestrate Classical and Quantum computation).\n",
    "\n",
    "Efficiently manage abstractions for Quantum and Classical workloads.\n",
    "\n",
    "Maximizes flexibility for users in multi-cloud and HPC scenarios."
   ]
  },
  {
   "cell_type": "markdown",
   "id": "dc56c508-a0be-403f-9825-767e8a24e286",
   "metadata": {},
   "source": [
    "## Building blocks of distributed computation"
   ]
  },
  {
   "cell_type": "markdown",
   "id": "047459e0-7a9e-4597-9f1b-af25dbadffb9",
   "metadata": {},
   "source": [
    "**Compute resources**\n",
    "\n",
    "Compute resources can be described as set of computational nodes with resources associated to each of them.\n",
    "Nodes are performing computation itself. \n",
    "Distributed storage is for accessing sharable resources between nodes.\n",
    "\n",
    "![compute resources](https://raw.githubusercontent.com/Qiskit-Extensions/quantum-serverless/main/docs/tutorials/images/diagrams_compute_resource.png)\n",
    "\n",
    "\n",
    "In order to resolve distributed compute we need a way to orchestrate our workloads on remote resources.\n",
    "\n",
    "**Object**\n",
    "\n",
    "Let's first look how to turn a local object into a remote one.\n",
    "\n",
    "To turn your local object to distributed one you need to call `put` function. \n",
    "It will serialize your object and send it to distributed storage and return you a reference to remote object location. \n",
    "\n",
    "![objects diagram](https://raw.githubusercontent.com/Qiskit-Extensions/quantum-serverless/main/docs/tutorials/images/diagrams_put.png)\n",
    "\n",
    "Example\n",
    "\n",
    "```python\n",
    "cirucit = QuantumCircuit(N, M)\n",
    "...\n",
    "circuit_reference = quantum_serverless.put(circuit)\n",
    "```\n",
    "\n",
    "Now we know how to move local object to remote compute resource. \n",
    "Next we need to do something with it. For this we will have remote functions.\n",
    "\n",
    "**Functions**\n",
    "\n",
    "As a second step we need to know how to transform our local function into remote one. \n",
    "\n",
    "In order to do that you need to annotate function with `run_qiskit_remote` decorator. \n",
    "This will turn your function into remote executable.  \n",
    "\n",
    "![functions diagram](https://raw.githubusercontent.com/Qiskit-Extensions/quantum-serverless/main/docs/tutorials/images/diagrams_function.png)\n",
    "\n",
    "All you need to do now is call this function and it will be executed as a remote procedure automatically. \n",
    "\n",
    "If you run N instances of this function in parallel you need just call it N times in a loop. \n",
    "The result of the following code will be a list of references to execution results.\n",
    "\n",
    "Example\n",
    "\n",
    "```python\n",
    "@quantum_serverless.run_qiskit_remote()\n",
    "def exp_val_remote(cirucit, obs):\n",
    "    estimator = Estimator(...)\n",
    "    return estimator.run(circuit, obs)\n",
    "\n",
    "obs: Operator = ...\n",
    "\n",
    "exp_val_execution_reference = exp_val_remote(circuit, obs)\n",
    "\n",
    "circuit_list: List[QuantumCircuit] = [...]\n",
    "\n",
    "obs_ref = quantum_serverless.put(obs)\n",
    "\n",
    "exp_val_execution_references = [\n",
    "    exp_val_remote(circ, obs_ref) \n",
    "    for circ in circuit_list\n",
    "]\n",
    "```\n",
    "\n",
    "As you can see we are passing an observable by refernce and circuits by values. Attributes passed by value will be converted to remote objects automatically and resolved within the remote function. We are passing observable by referece because we know it is the same one shared by all parallel function invocations, so we are saving some space. \n",
    "\n",
    "**Collecting results**\n",
    "\n",
    "And of course you need to collect your results back from remote resources. \n",
    "In order to do that you need to call the `get` function, which can be applied to object and function references or, alternatively, to a list of references.\n",
    "\n",
    "![collecting results diagram](https://raw.githubusercontent.com/Qiskit-Extensions/quantum-serverless/main/docs/tutorials/images/diagram_get.png)\n",
    "\n",
    "Example\n",
    "\n",
    "```python\n",
    "collected_circuit = quantum_serverless.get(circuit_reference)\n",
    "# <QuantumCircuit ...>\n",
    "\n",
    "collected_exp_value = quantum_serverless.get(exp_val_execution_reference)\n",
    "# <EstimatorResult ...>\n",
    "collected_exp_values = quantum_serverless.get(exp_val_execution_references)\n",
    "# [<EstimatorResult ...>, <EstimatorResult ...>, ...]\n",
    "```"
   ]
  },
  {
   "cell_type": "markdown",
   "id": "9b092b14-f6f5-43f8-a750-7c7ccc13378b",
   "metadata": {},
   "source": [
    "## Resource allocation and execution management"
   ]
  },
  {
   "cell_type": "markdown",
   "id": "31dd73bf-2d32-4568-a7aa-bb6883488bcc",
   "metadata": {},
   "source": [
    "**Resource allocation**\n",
    "\n",
    "Some functions are more demanding than others. \n",
    "To allocate specific resources to a function, the decorator accepts `target` parameter.\n",
    "For example, your function may require 2 cpus to be executed. You can pass `target={'cpu': 2}` to decorator and this function will request 2 cpus from your resource capacity to be executed.\n",
    "\n",
    "![resource allocation diagram](https://raw.githubusercontent.com/Qiskit-Extensions/quantum-serverless/main/docs/tutorials/images/diagrams_resource_allocation.png)\n",
    "\n",
    "Example\n",
    "\n",
    "```python\n",
    "@quantum_serverless.run_qiskit_remote(target={\"cpu\": 2, \"mem\": 8})\n",
    "def exp_val_remote(cirucit, obs):\n",
    "    estimator = Estimator(...)\n",
    "    exp_val_result = estimator.run(circuit, obs)\n",
    "    ...\n",
    "    return result\n",
    "```\n",
    "\n",
    "**Execution management**\n",
    "\n",
    "Now we figured how to convert our function and objects into remote counterparts and how to request for specific resources.\n",
    "Next step would be deciding where to run your workloads. \n",
    "\n",
    "To have control over location of compute we use configurations in `QuantumServerless` object and python context managers. \n",
    "\n",
    "`QuantumServerless` has a notion of `providers` which are abstractions to define where your compute resources are located.\n",
    "\n",
    "By default you always have a `local` provider which is your local machine where nodes and local cores.\n",
    "And you can configure as many providers as you want.\n",
    "\n",
    "![execution management diagram](https://raw.githubusercontent.com/Qiskit-Extensions/quantum-serverless/main/docs/tutorials/images/diagrams_context_management.png)\n",
    "\n",
    "Example\n",
    "\n",
    "```python\n",
    "serverless = QuantumServerless({\"providers\": [...]})\n",
    "serverless = QuantumServerless.load_configuration(\"<PATH_TO_CONFIG_FILE>\")\n",
    "print(serverless)\n",
    "# <QuantumServerless: providers [local, ibm, ...]>\n",
    "\n",
    "with serverless.provider(\"local\"):\n",
    "    exp_val_execution_reference = exp_val_remote(circuit, obs)\n",
    "    collected_exp_value = quantum_serverless.get(exp_val_execution_reference)\n",
    "\n",
    "with serverless.provider(\"ibm\"):\n",
    "    exp_val_execution_reference = exp_val_remote(circuit, obs)\n",
    "    collected_exp_value = quantum_serverless.get(exp_val_execution_reference)\n",
    "```"
   ]
  },
  {
   "cell_type": "markdown",
   "id": "3a8c5fc8-5e85-4d47-aa9f-1e3b849783a4",
   "metadata": {},
   "source": [
    "## Assembling all together\n",
    "\n",
    "Now we have all the important concepts in place and we can assemble our first simple example of a distributed program."
   ]
  },
  {
   "cell_type": "code",
   "execution_count": 5,
   "id": "086b4a61-68a1-4ea9-b80c-d04d5004c500",
   "metadata": {},
   "outputs": [],
   "source": [
    "# ! pip install quantum_serverless\n",
    "# ! pip install pyscf\n",
    "# ! pip install matplotlib"
   ]
  },
  {
   "cell_type": "code",
   "execution_count": 4,
   "id": "6277cbd3-a1ac-4a8f-8a29-c9c92732e780",
   "metadata": {},
   "outputs": [
    {
     "name": "stdout",
     "output_type": "stream",
     "text": [
      "[EstimatorResult(values=array([1.]), metadata=[{}]), EstimatorResult(values=array([1.]), metadata=[{}]), EstimatorResult(values=array([-0.8821732]), metadata=[{}])]\n"
     ]
    }
   ],
   "source": [
    "from qiskit.circuit.random import random_circuit\n",
    "from qiskit.primitives import Estimator\n",
    "from qiskit.quantum_info import SparsePauliOp\n",
    "from quantum_serverless import QuantumServerless, run_qiskit_remote, put, get\n",
    "\n",
    "serverless = QuantumServerless.load_configuration(\"./serverless_config.json\")\n",
    "\n",
    "@run_qiskit_remote()\n",
    "def exp_val_remote(circuit, obs):\n",
    "    estimator = Estimator()\n",
    "    return estimator.run(circuit, obs).result()\n",
    "\n",
    "circuit_list = [random_circuit(2, 2) for _ in range(3)]\n",
    "obs = SparsePauliOp([\"IZ\"])\n",
    "\n",
    "with serverless:\n",
    "    obs_ref = put(obs)\n",
    "    exp_val_execution_references = [\n",
    "        exp_val_remote(circ, obs_ref) \n",
    "        for circ in circuit_list\n",
    "    ]\n",
    "    collected_exp_values = get(exp_val_execution_references)\n",
    "    \n",
    "print(collected_exp_values)"
   ]
  },
  {
   "cell_type": "markdown",
   "id": "8749ff0f-d635-42f9-9b6c-c3361f522235",
   "metadata": {},
   "source": [
    "## Demo: electronic structure problem\n",
    "\n",
    "The example above is just a toy example to give you a grasp of what is going on. Now let's switch to more advanced demonstration of solving electronic structure problem."
   ]
  },
  {
   "cell_type": "code",
   "execution_count": 6,
   "id": "be408d7f-0fa2-4398-8755-a4d77e674d8b",
   "metadata": {},
   "outputs": [],
   "source": [
    "import os\n",
    "import matplotlib.pyplot as plt\n",
    "\n",
    "from qiskit_ibm_runtime import QiskitRuntimeService\n",
    "from qiskit_nature.drivers import Molecule\n",
    "from qiskit.algorithms.optimizers import SPSA\n",
    "\n",
    "from quantum_serverless import QuantumServerless"
   ]
  },
  {
   "cell_type": "code",
   "execution_count": 8,
   "id": "9c5b0985-a6ac-40d6-b330-a008126a0bd8",
   "metadata": {},
   "outputs": [],
   "source": [
    "import sys\n",
    "sys.path.append(\"./source_files/\")\n",
    "\n",
    "from source_files.electronic_structure_problem import electronic_structure_problem"
   ]
  },
  {
   "cell_type": "markdown",
   "id": "c47509aa-2f81-432b-9976-3a5bf8353e4c",
   "metadata": {},
   "source": [
    "Let's see what is the overall architecture of this example\n",
    "\n",
    "![electronic_structure_problem](https://raw.githubusercontent.com/Qiskit-Extensions/quantum-serverless/main/docs/tutorials/images/electronic_structure_problem.png)"
   ]
  },
  {
   "cell_type": "markdown",
   "id": "a153589d-a58c-422d-be61-61fa1f9e92c9",
   "metadata": {},
   "source": [
    "### Implementation\n",
    "\n",
    "Let's see how we can implement this.\n",
    "For full implementation [see here](./source_files/electronic_structure_problem.py).\n",
    "\n",
    "```python\n",
    "from quantum_serverless import run_qiskit_remote, get\n",
    "\n",
    "\n",
    "@run_qiskit_remote()\n",
    "def ground_state_solve(\n",
    "    molecule: Molecule,\n",
    "    initial_point: Union[List[float], np.ndarray],\n",
    "    options: Optional[Options] = None,\n",
    "    service: Optional[Union[QiskitRuntimeService, Dict[str, Any]]] = None,\n",
    "):\n",
    "    driver = PySCFDriver.from_molecule(molecule=molecule, ...)\n",
    "    es_problem = ElectronicStructureProblem(driver, ...)\n",
    "    ansatz = ...\n",
    "    operator = qubit_converter.convert(es_problem.second_q_ops(), ...)\n",
    "    optimizer = COBYLA(maxiter=500)\n",
    "    ...\n",
    "    \n",
    "    with Session(service=service) as session:\n",
    "        estimator = Estimator(session=session, options=options)\n",
    "\n",
    "        vqe = EstimatorVQE(\n",
    "            estimator=estimator,\n",
    "            circuit=ansatz,\n",
    "            optimizer=optimizer,\n",
    "            init_point=initial_point,\n",
    "        )\n",
    "\n",
    "        vqe_result = vqe.compute_minimum_eigenvalue(operator)\n",
    "       \n",
    "    return vqe_result.optimal_value\n",
    "\n",
    "\n",
    "def electronic_structure_problem(\n",
    "    molecules: List[Molecule],\n",
    "    initial_points: Optional[List[List[float]]] = None,\n",
    "    service: Optional[QiskitRuntimeService] = None,\n",
    "    backends: Optional[List[IBMQBackend]] = None,\n",
    "):\n",
    "    ...\n",
    "    function_references = [\n",
    "        hardware_efficient_ansatz(\n",
    "            molecule=molecule,\n",
    "            initial_point=initial_point,\n",
    "            service=service,\n",
    "        )\n",
    "        for molecule, initial_point in zip(molecules, initial_points)\n",
    "    ]\n",
    "\n",
    "    return get(function_references)\n",
    "```"
   ]
  },
  {
   "cell_type": "markdown",
   "id": "64c04731-26b6-4545-9ace-67b700acd84b",
   "metadata": {},
   "source": [
    "### Initialization"
   ]
  },
  {
   "cell_type": "code",
   "execution_count": 16,
   "id": "cad49bd2-8ea5-4d26-b7d0-1d0e19e1631c",
   "metadata": {},
   "outputs": [
    {
     "data": {
      "text/plain": [
       "<QuantumServerless: providers [local, ibm], clusters [local, ibm_remote]>"
      ]
     },
     "execution_count": 16,
     "metadata": {},
     "output_type": "execute_result"
    }
   ],
   "source": [
    "# default initialization\n",
    "serverless = QuantumServerless()\n",
    "\n",
    "# from configuration object\n",
    "config = {\"providers\": []}\n",
    "serverless = QuantumServerless(config)\n",
    "\n",
    "# from config file\n",
    "serverless = QuantumServerless.load_configuration(\"./serverless_config.json\")\n",
    "\n",
    "serverless"
   ]
  },
  {
   "cell_type": "code",
   "execution_count": 17,
   "id": "e0db5f68-d704-411c-a861-61e8af82b3cc",
   "metadata": {},
   "outputs": [
    {
     "data": {
      "text/plain": [
       "[<Provider: local>, <Provider: ibm>]"
      ]
     },
     "execution_count": 17,
     "metadata": {},
     "output_type": "execute_result"
    }
   ],
   "source": [
    "# get available providers\n",
    "serverless.providers()"
   ]
  },
  {
   "cell_type": "code",
   "execution_count": 18,
   "id": "06e2137f-1242-44a8-b99b-1dc462085eef",
   "metadata": {},
   "outputs": [
    {
     "data": {
      "text/plain": [
       "[<IBMBackend('ibmq_qasm_simulator')>,\n",
       " <IBMBackend('ibmq_qasm_simulator')>,\n",
       " <IBMBackend('ibmq_qasm_simulator')>]"
      ]
     },
     "execution_count": 18,
     "metadata": {},
     "output_type": "execute_result"
    }
   ],
   "source": [
    "service = QiskitRuntimeService()\n",
    "\n",
    "names = [\"ibmq_qasm_simulator\", \"ibmq_qasm_simulator\", \"ibmq_qasm_simulator\"]\n",
    "backends = [service.backend(name) for name in names]\n",
    "backends"
   ]
  },
  {
   "cell_type": "code",
   "execution_count": 22,
   "id": "6e826ea8-f0ef-46d3-b1f9-4dee4296becb",
   "metadata": {},
   "outputs": [],
   "source": [
    "%%capture\n",
    "\n",
    "with serverless:  # or serverless.provider(\"ibm\")\n",
    "    energies = electronic_structure_problem(\n",
    "        molecules=[\n",
    "            Molecule(geometry=[(\"H\", [0.0, 0.0, 0.0]), (\"Li\", [0.0, 0.0, 1.0])], charge=0, multiplicity=1),\n",
    "            Molecule(geometry=[(\"H\", [0.0, 0.0, 0.0]), (\"Li\", [0.0, 0.0, 1.5])], charge=0, multiplicity=1),\n",
    "            Molecule(geometry=[(\"H\", [0.0, 0.0, 0.0]), (\"Li\", [0.0, 0.0, 2.0])], charge=0, multiplicity=1),\n",
    "        ],\n",
    "        initial_points=[\n",
    "            [0.1, 0.1, 0.1, 0.1],\n",
    "            [0.01, 0.01, 0.01, 0.01],\n",
    "            [0.001, 0.001, 0.001, 0.001],\n",
    "        ],\n",
    "        service=service,\n",
    "        backends=backends,\n",
    "        optimization_level = 1,\n",
    "        resilience_level = 1,\n",
    "        shots=4000,\n",
    "        optimizer=SPSA()\n",
    "    )"
   ]
  },
  {
   "cell_type": "code",
   "execution_count": 23,
   "id": "419b6bd1-d4b3-45bd-8870-f91a23dd627f",
   "metadata": {},
   "outputs": [
    {
     "name": "stdout",
     "output_type": "stream",
     "text": [
      "Energies:  [-1.1696368708335771, -1.094948730347002, -0.9811731914750684]\n",
      "Shifts:  [-6.609784771130333, -6.781951626949075, -6.870414678425503]\n",
      "Energy + shift:  [-7.779421641963911, -7.876900357296077, -7.8515878699005714]\n"
     ]
    }
   ],
   "source": [
    "print(\"Energies: \", [e[0] for e in energies])\n",
    "print(\"Shifts: \", [e[1] for e in energies])\n",
    "print(\"Energy + shift: \", [e[0] + e[1] for e in energies])"
   ]
  },
  {
   "cell_type": "code",
   "execution_count": 24,
   "id": "f3bef13b-9f55-42b4-b495-2d79d919a8ff",
   "metadata": {},
   "outputs": [
    {
     "data": {
      "image/png": "[encoded data removed]",
      "text/plain": [
       "<Figure size 640x480 with 1 Axes>"
      ]
     },
     "metadata": {},
     "output_type": "display_data"
    }
   ],
   "source": [
    "dist = [1.0,1.5,2.0]\n",
    "plt.plot(dist, [e[0] + e[1] for e in energies], 'o', label = 'VQE')\n",
    "plt.xlabel('LiH dist (A)')\n",
    "plt.ylabel('Enrgy (Ha)')\n",
    "plt.legend()\n",
    "plt.show()"
   ]
  },
  {
   "cell_type": "code",
   "execution_count": 25,
   "id": "e7509031-11e8-4498-9f0e-179376c442a0",
   "metadata": {},
   "outputs": [
    {
     "data": {
      "image/png": "[encoded data removed]",
      "text/plain": [
       "<Figure size 640x480 with 1 Axes>"
      ]
     },
     "metadata": {},
     "output_type": "display_data"
    }
   ],
   "source": [
    "for i, bond_l in enumerate([1.0, 1.5, 2.0]):\n",
    "    shift = energies[i][1]\n",
    "    history = [h[1] + shift for h in energies[i][2]]\n",
    "    plt.plot(history, label=f\"Bond length: {bond_l}\")\n",
    "\n",
    "plt.title(\"Optimization history\")\n",
    "plt.legend()\n",
    "plt.show()"
   ]
  },
  {
   "cell_type": "markdown",
   "id": "21bbe2d0-8d7c-4ee0-9e71-eb59d46d06ac",
   "metadata": {},
   "source": [
    "## Extra: infrastructure"
   ]
  },
  {
   "cell_type": "markdown",
   "id": "0d27e4cd-06b0-404f-aa67-a1ff26d24f7a",
   "metadata": {},
   "source": [
    "We provide infrastructure layer in a form of a helm chart, which can be installed to any Kubernetes deployment on any cloud or on-premise resources. \n",
    "\n",
    "On top of that we provide terraform template for popular cloud vendors to create Kubernetes clusters and install serverless on them.\n",
    "\n",
    "![Infrastructure](https://raw.githubusercontent.com/Qiskit-Extensions/quantum-serverless/main/docs/tutorials/images/diagrams_infra.png)"
   ]
  },
  {
   "cell_type": "markdown",
   "id": "e4a58cd5",
   "metadata": {},
   "source": [
    "## Links and references\n",
    "\n",
    "Quantum Serverless GitHub repository\n",
    "\n",
    "### https://ibm.biz/qs-repo \n",
    "![repo qr](https://raw.githubusercontent.com/Qiskit-Extensions/quantum-serverless/main/docs/tutorials/images/qr_repo.png)\n",
    "\n",
    "Documentation\n",
    "\n",
    "### https://ibm.biz/qs-docs \n",
    "![docs qr](https://raw.githubusercontent.com/Qiskit-Extensions/quantum-serverless/main/docs/tutorials/images/qr_docs.png)\n",
    "\n",
    "Demo notebook\n",
    "\n",
    "### https://ibm.biz/qs-demo1 \n",
    "![demo qr](https://raw.githubusercontent.com/Qiskit-Extensions/quantum-serverless/main/docs/tutorials/images/qr_demo1.png)\n"
   ]
  }
 ],
 "metadata": {
  "kernelspec": {
   "display_name": "Python 3 (ipykernel)",
   "language": "python",
   "name": "python3"
  },
  "language_info": {
   "codemirror_mode": {
    "name": "ipython",
    "version": 3
   },
   "file_extension": ".py",
   "mimetype": "text/x-python",
   "name": "python",
   "nbconvert_exporter": "python",
   "pygments_lexer": "ipython3",
   "version": "3.9.12"
  }
 },
 "nbformat": 4,
 "nbformat_minor": 5
}
