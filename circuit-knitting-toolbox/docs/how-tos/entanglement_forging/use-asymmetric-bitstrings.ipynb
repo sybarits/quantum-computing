{
 "cells": [
  {
   "cell_type": "markdown",
   "metadata": {},
   "source": [
    "# How to use asymmetric bitstrings (with the CH₃ molecule as an example)\n",
    "\n",
    "In this guide, we apply Entanglement Forging to compute the ground state energy of a $\\mathrm{CH}_3$ molecule. We use separate bitstrings lists for each subsystem, U and V."
   ]
  },
  {
   "cell_type": "markdown",
   "metadata": {},
   "source": [
    "### Import the relevant modules"
   ]
  },
  {
   "cell_type": "code",
   "execution_count": 1,
   "metadata": {
    "ExecuteTime": {
     "end_time": "2021-04-27T13:41:07.878080Z",
     "start_time": "2021-04-27T13:41:05.980627Z"
    },
    "tags": []
   },
   "outputs": [],
   "source": [
    "from matplotlib import pyplot as plt\n",
    "import numpy as np\n",
    "\n",
    "from qiskit.circuit import QuantumCircuit, Parameter\n",
    "from qiskit.algorithms.optimizers import COBYLA\n",
    "from qiskit_nature.drivers import Molecule\n",
    "from qiskit_nature.drivers.second_quantization import PySCFDriver\n",
    "from qiskit_nature.problems.second_quantization import ElectronicStructureProblem\n",
    "from qiskit_nature.mappers.second_quantization import JordanWignerMapper\n",
    "from qiskit_nature.converters.second_quantization import QubitConverter\n",
    "from qiskit_nature.properties.second_quantization.electronic.bases import (\n",
    "    ElectronicBasis,\n",
    ")\n",
    "from qiskit_nature.transformers.second_quantization.electronic.active_space_transformer import (\n",
    "    ActiveSpaceTransformer,\n",
    ")\n",
    "\n",
    "from circuit_knitting_toolbox.entanglement_forging import (\n",
    "    EntanglementForgingAnsatz,\n",
    "    EntanglementForgingGroundStateSolver,\n",
    ")\n",
    "from circuit_knitting_toolbox.utils import IntegralDriver"
   ]
  },
  {
   "cell_type": "markdown",
   "metadata": {},
   "source": [
    "### Define the $\\mathrm{CH}_3$ molecule, define the active space transform, and instantiate an `ElectronicStructureProblem`"
   ]
  },
  {
   "cell_type": "code",
   "execution_count": 2,
   "metadata": {
    "ExecuteTime": {
     "end_time": "2021-04-27T13:41:07.934705Z",
     "start_time": "2021-04-27T13:41:07.880717Z"
    }
   },
   "outputs": [],
   "source": [
    "# Define a molecular system of interest - Methyl radical\n",
    "molecule = Molecule(\n",
    "    geometry=[\n",
    "        [\"C\", [0.0, 0.0, 0.00]],\n",
    "        [\"H\", [1.0790, 0.0, 0.00]],\n",
    "        [\"H\", [-0.5395, -0.9344, 0.00]],\n",
    "        [\"H\", [-0.5395, 0.9344, 0.00]],\n",
    "    ],\n",
    "    charge=0,\n",
    "    multiplicity=2,\n",
    ")\n",
    "\n",
    "driver = PySCFDriver.from_molecule(molecule=molecule, basis=\"sto-3g\")\n",
    "converter = QubitConverter(JordanWignerMapper())\n",
    "\n",
    "# Construct an active space composed of 6 molecular orbitals\n",
    "transformer = ActiveSpaceTransformer(num_electrons=(3, 2), num_molecular_orbitals=6)\n",
    "problem_reduced = ElectronicStructureProblem(driver, [transformer])"
   ]
  },
  {
   "cell_type": "markdown",
   "metadata": {},
   "source": [
    "### Retrieve the one and two-body integrals and the nuclear repulsion energy. These will be used to decompose the operator into a bipartite system."
   ]
  },
  {
   "cell_type": "code",
   "execution_count": 3,
   "metadata": {},
   "outputs": [
    {
     "name": "stderr",
     "output_type": "stream",
     "text": [
      "/Users/caleb/opt/anaconda3/envs/ckt/lib/python3.7/site-packages/qiskit_nature/problems/second_quantization/electronic/electronic_structure_problem.py:93: ListAuxOpsDeprecationWarning: List-based `aux_operators` are deprecated as of version 0.3.0 and support for them will be removed no sooner than 3 months after the release. Instead, use dict-based `aux_operators`. You can switch to the dict-based interface immediately, by setting `qiskit_nature.settings.dict_aux_operators` to `True`.\n",
      "  second_quantized_ops = self._grouped_property_transformed.second_q_ops()\n"
     ]
    }
   ],
   "source": [
    "H_fermionic = problem_reduced.second_q_ops()\n",
    "electronic_energy_object = problem_reduced.grouped_property_transformed.get_property(\n",
    "    \"ElectronicEnergy\"\n",
    ")\n",
    "nuclear_repulsion_energy = electronic_energy_object.nuclear_repulsion_energy\n",
    "\n",
    "# These are the integrals in the molecular orbital basis retrieved from the 6 orbital active space.\n",
    "one_body_integrals_alpha = electronic_energy_object.get_electronic_integral(\n",
    "    ElectronicBasis.MO, 1\n",
    ")._matrices[0]\n",
    "one_body_integrals_beta = electronic_energy_object.get_electronic_integral(\n",
    "    ElectronicBasis.MO, 1\n",
    ")._matrices[1]\n",
    "\n",
    "two_body_integrals_alpha_alpha = electronic_energy_object.get_electronic_integral(\n",
    "    ElectronicBasis.MO, 2\n",
    ")._matrices[0]\n",
    "two_body_integrals_beta_alpha = electronic_energy_object.get_electronic_integral(\n",
    "    ElectronicBasis.MO, 2\n",
    ")._matrices[1]\n",
    "two_body_integrals_beta_beta = electronic_energy_object.get_electronic_integral(\n",
    "    ElectronicBasis.MO, 2\n",
    ")._matrices[2]\n",
    "two_body_integrals_alpha_beta = electronic_energy_object.get_electronic_integral(\n",
    "    ElectronicBasis.MO, 2\n",
    ")._matrices[3]"
   ]
  },
  {
   "cell_type": "markdown",
   "metadata": {},
   "source": [
    "### Use the `IntegralDriver` and `ElectronicStructureProblem` objects to specify the entanglement-forged operator"
   ]
  },
  {
   "cell_type": "code",
   "execution_count": 4,
   "metadata": {},
   "outputs": [],
   "source": [
    "# Create an ElectronicStructureProblem from our IntegralDriver and performing second quantization transformation\n",
    "driver = IntegralDriver(\n",
    "    hcore=one_body_integrals_alpha,\n",
    "    mo_coeff=np.eye(6, 6),\n",
    "    eri=two_body_integrals_alpha_alpha,\n",
    "    num_alpha=3,\n",
    "    num_beta=2,\n",
    "    nuclear_repulsion_energy=nuclear_repulsion_energy,\n",
    ")\n",
    "problem = ElectronicStructureProblem(driver)"
   ]
  },
  {
   "cell_type": "markdown",
   "metadata": {},
   "source": [
    "### Prepare the bitstrings and the ansatz. \n",
    "\n",
    "The ansatz for Entanglement Forging consists of a set of input bitstrings and a parameterized ansatz. If only one set of bitstrings is passed, it will be used for both subsystems. For this demo, we will specify different bitstrings for each subsystem."
   ]
  },
  {
   "cell_type": "code",
   "execution_count": 5,
   "metadata": {
    "ExecuteTime": {
     "end_time": "2021-04-27T13:41:08.939346Z",
     "start_time": "2021-04-27T13:41:08.501552Z"
    },
    "scrolled": true
   },
   "outputs": [
    {
     "data": {
      "text/html": [
       "<pre style=\"word-wrap: normal;white-space: pre;background: #fff0;line-height: 1.1;font-family: &quot;Courier New&quot;,Courier,monospace\">                                                                         ┌───────────────┐                                                                        \n",
       "q_0: ────────────────────────────────────────────────────────────────────┤0              ├────────────────────────────────────────────────────────────────────────\n",
       "                                                        ┌───────────────┐│  Hop gate(θ8) │┌───────────────┐                                                       \n",
       "q_1: ───────────────────────────────────────────────────┤0              ├┤1              ├┤0              ├───────────────────────────────────────────────────────\n",
       "                                       ┌───────────────┐│  Hop gate(θ4) │├───────────────┤│  Hop gate(θ9) │ ┌────────────────┐                                    \n",
       "q_2: ──────────────────────────────────┤0              ├┤1              ├┤0              ├┤1              ├─┤0               ├────────────────────────────────────\n",
       "                      ┌───────────────┐│  Hop gate(θ2) │├───────────────┤│  Hop gate(θ7) │├───────────────┴┐│  Hop gate(θ11) │┌────────────────┐                  \n",
       "q_3: ─────────────────┤0              ├┤1              ├┤0              ├┤1              ├┤0               ├┤1               ├┤0               ├──────────────────\n",
       "     ┌───────────────┐│  Hop gate(θ1) │├───────────────┤│  Hop gate(θ5) │├───────────────┤│  Hop gate(θ10) │├────────────────┤│  Hop gate(θ13) │┌────────────────┐\n",
       "q_4: ┤0              ├┤1              ├┤0              ├┤1              ├┤0              ├┤1               ├┤0               ├┤1               ├┤0               ├\n",
       "     │  Hop gate(θ0) │└───────────────┘│  Hop gate(θ3) │└───────────────┘│  Hop gate(θ6) │└────────────────┘│  Hop gate(θ12) │└────────────────┘│  Hop gate(θ14) │\n",
       "q_5: ┤1              ├─────────────────┤1              ├─────────────────┤1              ├──────────────────┤1               ├──────────────────┤1               ├\n",
       "     └───────────────┘                 └───────────────┘                 └───────────────┘                  └────────────────┘                  └────────────────┘</pre>"
      ],
      "text/plain": [
       "                                                                         ┌───────────────┐                                                                        \n",
       "q_0: ────────────────────────────────────────────────────────────────────┤0              ├────────────────────────────────────────────────────────────────────────\n",
       "                                                        ┌───────────────┐│  Hop gate(θ8) │┌───────────────┐                                                       \n",
       "q_1: ───────────────────────────────────────────────────┤0              ├┤1              ├┤0              ├───────────────────────────────────────────────────────\n",
       "                                       ┌───────────────┐│  Hop gate(θ4) │├───────────────┤│  Hop gate(θ9) │ ┌────────────────┐                                    \n",
       "q_2: ──────────────────────────────────┤0              ├┤1              ├┤0              ├┤1              ├─┤0               ├────────────────────────────────────\n",
       "                      ┌───────────────┐│  Hop gate(θ2) │├───────────────┤│  Hop gate(θ7) │├───────────────┴┐│  Hop gate(θ11) │┌────────────────┐                  \n",
       "q_3: ─────────────────┤0              ├┤1              ├┤0              ├┤1              ├┤0               ├┤1               ├┤0               ├──────────────────\n",
       "     ┌───────────────┐│  Hop gate(θ1) │├───────────────┤│  Hop gate(θ5) │├───────────────┤│  Hop gate(θ10) │├────────────────┤│  Hop gate(θ13) │┌────────────────┐\n",
       "q_4: ┤0              ├┤1              ├┤0              ├┤1              ├┤0              ├┤1               ├┤0               ├┤1               ├┤0               ├\n",
       "     │  Hop gate(θ0) │└───────────────┘│  Hop gate(θ3) │└───────────────┘│  Hop gate(θ6) │└────────────────┘│  Hop gate(θ12) │└────────────────┘│  Hop gate(θ14) │\n",
       "q_5: ┤1              ├─────────────────┤1              ├─────────────────┤1              ├──────────────────┤1               ├──────────────────┤1               ├\n",
       "     └───────────────┘                 └───────────────┘                 └───────────────┘                  └────────────────┘                  └────────────────┘"
      ]
     },
     "execution_count": 5,
     "metadata": {},
     "output_type": "execute_result"
    }
   ],
   "source": [
    "bitstrings_u = [\n",
    "    (1, 1, 1, 0, 0, 0),\n",
    "    (0, 1, 1, 0, 0, 1),\n",
    "    (1, 0, 1, 0, 1, 0),\n",
    "    (1, 0, 1, 1, 0, 0),\n",
    "    (0, 1, 1, 1, 0, 0),\n",
    "]\n",
    "bitstrings_v = [\n",
    "    (1, 1, 0, 0, 0, 0),\n",
    "    (0, 1, 0, 0, 0, 1),\n",
    "    (1, 0, 0, 0, 1, 0),\n",
    "    (1, 0, 0, 1, 0, 0),\n",
    "    (0, 1, 0, 1, 0, 0),\n",
    "]\n",
    "\n",
    "# Define ansatz parameters:\n",
    "brickwall = [\n",
    "    (4, 5),\n",
    "    (3, 4),\n",
    "    (2, 3),\n",
    "    (4, 5),\n",
    "    (1, 2),\n",
    "    (3, 4),\n",
    "    (4, 5),\n",
    "    (2, 3),\n",
    "    (0, 1),\n",
    "    (1, 2),\n",
    "    (3, 4),\n",
    "    (2, 3),\n",
    "    (4, 5),\n",
    "    (3, 4),\n",
    "    (4, 5),\n",
    "]\n",
    "\n",
    "n_theta = len(brickwall)\n",
    "nqubit = len(bitstrings_u[0])\n",
    "theta = Parameter(\"θ\")\n",
    "hop_gate = QuantumCircuit(2, name=\"Hop gate\")\n",
    "hop_gate.h(0)\n",
    "hop_gate.cx(1, 0)\n",
    "hop_gate.cx(0, 1)\n",
    "hop_gate.ry(-theta, 0)\n",
    "hop_gate.ry(-theta, 1)\n",
    "hop_gate.cx(0, 1)\n",
    "hop_gate.h(0)\n",
    "\n",
    "theta_vec = [Parameter(\"θ%d\" % i) for i in range(n_theta)]\n",
    "\n",
    "# Create the parametrized circuit (circuit_u). The same circuit will be used for both subsystems, U and V\n",
    "circuit_u = QuantumCircuit(nqubit)\n",
    "for m, (i, j) in enumerate(brickwall):\n",
    "    circuit_u.append(hop_gate.to_gate({theta: theta_vec[m]}), [i, j])\n",
    "\n",
    "ansatz = EntanglementForgingAnsatz(\n",
    "    circuit_u=circuit_u, bitstrings_u=bitstrings_u, bitstrings_v=bitstrings_v\n",
    ")\n",
    "\n",
    "ansatz.circuit_u.draw(\"text\", justify=\"right\", fold=-1)"
   ]
  },
  {
   "cell_type": "markdown",
   "metadata": {},
   "source": [
    "From here, the problem can be solved following the same steps as in the [tutorials](../../tutorials/entanglement_forging/index.rst)."
   ]
  },
  {
   "cell_type": "code",
   "execution_count": 11,
   "metadata": {},
   "outputs": [
    {
     "data": {
      "text/html": [
       "<h3>Version Information</h3><table><tr><th>Qiskit Software</th><th>Version</th></tr><tr><td><code>qiskit-terra</code></td><td>0.22.0</td></tr><tr><td><code>qiskit-aer</code></td><td>0.11.0</td></tr><tr><td><code>qiskit-ignis</code></td><td>0.7.1</td></tr><tr><td><code>qiskit-ibmq-provider</code></td><td>0.19.2</td></tr><tr><td><code>qiskit-nature</code></td><td>0.4.5</td></tr><tr><th>System information</th></tr><tr><td>Python version</td><td>3.9.7</td></tr><tr><td>Python compiler</td><td>GCC 7.5.0</td></tr><tr><td>Python build</td><td>default, Sep 16 2021 13:09:58</td></tr><tr><td>OS</td><td>Linux</td></tr><tr><td>CPUs</td><td>6</td></tr><tr><td>Memory (Gb)</td><td>30.943462371826172</td></tr><tr><td colspan='2'>Wed Oct 26 13:39:30 2022 EDT</td></tr></table>"
      ],
      "text/plain": [
       "<IPython.core.display.HTML object>"
      ]
     },
     "metadata": {},
     "output_type": "display_data"
    }
   ],
   "source": [
    "import qiskit.tools.jupyter\n",
    "\n",
    "%qiskit_version_table"
   ]
  },
  {
   "cell_type": "markdown",
   "metadata": {},
   "source": [
    "### This code is a Qiskit project.\n",
    "\n",
    "© Copyright IBM 2022.\n",
    "\n",
    "This code is licensed under the Apache License, Version 2.0. You may\n",
    "obtain a copy of this license in the LICENSE.txt file in the root directory\n",
    "of this source tree or at http://www.apache.org/licenses/LICENSE-2.0.\n",
    "\n",
    "Any modifications or derivative works of this code must retain this\n",
    "copyright notice, and modified files need to carry a notice indicating\n",
    "that they have been altered from the originals."
   ]
  }
 ],
 "metadata": {
  "kernelspec": {
   "display_name": "Python 3 (ipykernel)",
   "language": "python",
   "name": "python3"
  },
  "language_info": {
   "codemirror_mode": {
    "name": "ipython",
    "version": 3
   },
   "file_extension": ".py",
   "mimetype": "text/x-python",
   "name": "python",
   "nbconvert_exporter": "python",
   "pygments_lexer": "ipython3",
   "version": "3.9.7"
  },
  "nbsphinx": {
   "execute": "never"
  },
  "vscode": {
   "interpreter": {
    "hash": "987cdf5eeb33585dc719bb9ff4378c2f5c2124692c306f8bea7b3d839af38946"
   }
  }
 },
 "nbformat": 4,
 "nbformat_minor": 4
}
