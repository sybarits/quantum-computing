{
 "cells": [
  {
   "cell_type": "markdown",
   "metadata": {},
   "source": [
    "# How to freeze orbitals (with the H₂O molecule as an example)\n",
    "\n",
    "In this guide, we apply Entanglement Forging to compute the energy of a $\\mathrm{H}_2\\mathrm{O}$ molecule. We reduce the number of orbitals in the problem, in turn reducing the number of qubits needed in each circuit, following the logic given in the [explanatory material](../../explanation/entanglement_forging/index.rst)."
   ]
  },
  {
   "cell_type": "markdown",
   "metadata": {},
   "source": [
    "### Import the relevant modules\n",
    "\n",
    "First, we import the relevant modules.  The imports are similar to the introductory tutorial, but this time, we also import the `reduce_bitstrings` function from `circuit_knitting_toolbox.utils`."
   ]
  },
  {
   "cell_type": "code",
   "execution_count": 1,
   "metadata": {
    "ExecuteTime": {
     "end_time": "2021-04-27T13:41:07.878080Z",
     "start_time": "2021-04-27T13:41:05.980627Z"
    },
    "tags": []
   },
   "outputs": [],
   "source": [
    "from matplotlib import pyplot as plt\n",
    "import numpy as np\n",
    "\n",
    "from qiskit.circuit import QuantumCircuit, Parameter\n",
    "from qiskit.circuit.library import TwoLocal\n",
    "from qiskit.algorithms.optimizers import COBYLA\n",
    "from qiskit_nature.drivers import Molecule\n",
    "from qiskit_nature.drivers.second_quantization import PySCFDriver\n",
    "from qiskit_nature.problems.second_quantization import ElectronicStructureProblem\n",
    "from qiskit_nature.mappers.second_quantization import JordanWignerMapper\n",
    "from qiskit_nature.converters.second_quantization import QubitConverter\n",
    "from qiskit_nature.algorithms.ground_state_solvers import (\n",
    "    GroundStateEigensolver,\n",
    "    NumPyMinimumEigensolverFactory,\n",
    ")\n",
    "\n",
    "from circuit_knitting_toolbox.entanglement_forging import (\n",
    "    EntanglementForgingAnsatz,\n",
    "    EntanglementForgingGroundStateSolver,\n",
    ")\n",
    "from circuit_knitting_toolbox.utils import reduce_bitstrings"
   ]
  },
  {
   "cell_type": "markdown",
   "metadata": {},
   "source": [
    "### Instantiate the `ElectronicStructureProblem`\n",
    "\n",
    "Next, we set up the $\\mathrm{H}_2\\mathrm{O}$ molecule, specify the driver and converter, and instantiate an `ElectronicStructureProblem`."
   ]
  },
  {
   "cell_type": "code",
   "execution_count": 2,
   "metadata": {
    "ExecuteTime": {
     "end_time": "2021-04-27T13:41:07.934705Z",
     "start_time": "2021-04-27T13:41:07.880717Z"
    }
   },
   "outputs": [],
   "source": [
    "radius_1 = 0.958  # position for the first H atom\n",
    "radius_2 = 0.958  # position for the second H atom\n",
    "thetas_in_deg = 104.478  # bond angles.\n",
    "\n",
    "H1_x = radius_1\n",
    "H2_x = radius_2 * np.cos(np.pi / 180 * thetas_in_deg)\n",
    "H2_y = radius_2 * np.sin(np.pi / 180 * thetas_in_deg)\n",
    "\n",
    "molecule = Molecule(\n",
    "    geometry=[\n",
    "        [\"O\", [0.0, 0.0, 0.0]],\n",
    "        [\"H\", [H1_x, 0.0, 0.0]],\n",
    "        [\"H\", [H2_x, H2_y, 0.0]],\n",
    "    ],\n",
    "    charge=0,\n",
    "    multiplicity=1,\n",
    ")\n",
    "driver = PySCFDriver.from_molecule(molecule=molecule, basis=\"sto6g\")\n",
    "problem = ElectronicStructureProblem(driver)\n",
    "converter = QubitConverter(JordanWignerMapper())"
   ]
  },
  {
   "cell_type": "markdown",
   "metadata": {},
   "source": [
    "### Compute the classical result\n",
    "\n",
    "For comparison, we also use `numpy` to compute the classical result. "
   ]
  },
  {
   "cell_type": "code",
   "execution_count": 3,
   "metadata": {
    "ExecuteTime": {
     "end_time": "2021-04-27T13:41:08.499392Z",
     "start_time": "2021-04-27T13:41:08.080069Z"
    }
   },
   "outputs": [
    {
     "name": "stderr",
     "output_type": "stream",
     "text": [
      "/Users/caleb/opt/anaconda3/envs/ckt/lib/python3.7/site-packages/qiskit_nature/problems/second_quantization/electronic/electronic_structure_problem.py:93: ListAuxOpsDeprecationWarning: List-based `aux_operators` are deprecated as of version 0.3.0 and support for them will be removed no sooner than 3 months after the release. Instead, use dict-based `aux_operators`. You can switch to the dict-based interface immediately, by setting `qiskit_nature.settings.dict_aux_operators` to `True`.\n",
      "  second_quantized_ops = self._grouped_property_transformed.second_q_ops()\n"
     ]
    },
    {
     "name": "stdout",
     "output_type": "stream",
     "text": [
      "Classical energy =  -75.72890671869246\n"
     ]
    }
   ],
   "source": [
    "solver = GroundStateEigensolver(\n",
    "    converter, NumPyMinimumEigensolverFactory(use_default_filter_criterion=False)\n",
    ")\n",
    "\n",
    "result = solver.solve(problem)\n",
    "classical_energy = result.total_energies[0]\n",
    "\n",
    "print(\"Classical energy = \", classical_energy)"
   ]
  },
  {
   "cell_type": "markdown",
   "metadata": {},
   "source": [
    "### Prepare the bitstrings and the ansatz"
   ]
  },
  {
   "cell_type": "markdown",
   "metadata": {},
   "source": [
    "The ansatz for Entanglement Forging consists of a set of input bitstrings and a parameterized circuit. (See the \"explanatory material\" section of the documentation for additional background on the method.) For this demo, we will use the same bitstrings and ansatz for both the U and V subsystems. "
   ]
  },
  {
   "cell_type": "code",
   "execution_count": 4,
   "metadata": {},
   "outputs": [
    {
     "data": {
      "text/html": [
       "<pre style=\"word-wrap: normal;white-space: pre;background: #fff0;line-height: 1.1;font-family: &quot;Courier New&quot;,Courier,monospace\">     ┌───┐┌───┐     ┌────────────┐     ┌───┐\n",
       "q_0: ┤ H ├┤ X ├──■──┤ Ry(-1.0*θ) ├──■──┤ H ├\n",
       "     └───┘└─┬─┘┌─┴─┐├────────────┤┌─┴─┐└───┘\n",
       "q_1: ───────■──┤ X ├┤ Ry(-1.0*θ) ├┤ X ├─────\n",
       "               └───┘└────────────┘└───┘     </pre>"
      ],
      "text/plain": [
       "     ┌───┐┌───┐     ┌────────────┐     ┌───┐\n",
       "q_0: ┤ H ├┤ X ├──■──┤ Ry(-1.0*θ) ├──■──┤ H ├\n",
       "     └───┘└─┬─┘┌─┴─┐├────────────┤┌─┴─┐└───┘\n",
       "q_1: ───────■──┤ X ├┤ Ry(-1.0*θ) ├┤ X ├─────\n",
       "               └───┘└────────────┘└───┘     "
      ]
     },
     "execution_count": 4,
     "metadata": {},
     "output_type": "execute_result"
    }
   ],
   "source": [
    "theta = Parameter(\"θ\")\n",
    "\n",
    "hop_gate = QuantumCircuit(2, name=\"Hop gate\")\n",
    "hop_gate.h(0)\n",
    "hop_gate.cx(1, 0)\n",
    "hop_gate.cx(0, 1)\n",
    "hop_gate.ry(-theta, 0)\n",
    "hop_gate.ry(-theta, 1)\n",
    "hop_gate.cx(0, 1)\n",
    "hop_gate.h(0)\n",
    "\n",
    "hop_gate.draw()"
   ]
  },
  {
   "cell_type": "code",
   "execution_count": 5,
   "metadata": {},
   "outputs": [
    {
     "data": {
      "text/html": [
       "<pre style=\"word-wrap: normal;white-space: pre;background: #fff0;line-height: 1.1;font-family: &quot;Courier New&quot;,Courier,monospace\">     ┌───────────────┐                ┌───────────────┐\n",
       "q_0: ┤0              ├────────────────┤0              ├\n",
       "     │  Hop gate(θ1) │┌──────────────┐│               │\n",
       "q_1: ┤1              ├┤0             ├┤  Hop gate(θ3) ├\n",
       "     └───────────────┘│              ││               │\n",
       "q_2: ─────────────────┤              ├┤1              ├\n",
       "     ┌───────────────┐│  Hop gate(0) │├───────────────┤\n",
       "q_3: ┤0              ├┤              ├┤0              ├\n",
       "     │  Hop gate(θ2) ││              ││  Hop gate(θ4) │\n",
       "q_4: ┤1              ├┤1             ├┤1              ├\n",
       "     └───────────────┘└──────────────┘└───────────────┘</pre>"
      ],
      "text/plain": [
       "     ┌───────────────┐                ┌───────────────┐\n",
       "q_0: ┤0              ├────────────────┤0              ├\n",
       "     │  Hop gate(θ1) │┌──────────────┐│               │\n",
       "q_1: ┤1              ├┤0             ├┤  Hop gate(θ3) ├\n",
       "     └───────────────┘│              ││               │\n",
       "q_2: ─────────────────┤              ├┤1              ├\n",
       "     ┌───────────────┐│  Hop gate(0) │├───────────────┤\n",
       "q_3: ┤0              ├┤              ├┤0              ├\n",
       "     │  Hop gate(θ2) ││              ││  Hop gate(θ4) │\n",
       "q_4: ┤1              ├┤1             ├┤1              ├\n",
       "     └───────────────┘└──────────────┘└───────────────┘"
      ]
     },
     "execution_count": 5,
     "metadata": {},
     "output_type": "execute_result"
    }
   ],
   "source": [
    "theta_1, theta_2, theta_3, theta_4 = (\n",
    "    Parameter(\"θ1\"),\n",
    "    Parameter(\"θ2\"),\n",
    "    Parameter(\"θ3\"),\n",
    "    Parameter(\"θ4\"),\n",
    ")\n",
    "\n",
    "circuit_u = QuantumCircuit(5)\n",
    "circuit_u.append(hop_gate.to_gate({theta: theta_1}), [0, 1])\n",
    "circuit_u.append(hop_gate.to_gate({theta: theta_2}), [3, 4])\n",
    "circuit_u.append(hop_gate.to_gate({theta: 0}), [1, 4])\n",
    "circuit_u.append(hop_gate.to_gate({theta: theta_3}), [0, 2])\n",
    "circuit_u.append(hop_gate.to_gate({theta: theta_4}), [3, 4])\n",
    "\n",
    "# Set our bitstrings, and then reduce the chosen orbitals\n",
    "orbitals_to_reduce = [0, 3]\n",
    "bitstrings_u = [(1, 1, 1, 1, 1, 0, 0), (1, 0, 1, 1, 1, 0, 1), (1, 0, 1, 1, 1, 1, 0)]\n",
    "reduced_bitstrings = reduce_bitstrings(bitstrings_u, orbitals_to_reduce)\n",
    "\n",
    "ansatz = EntanglementForgingAnsatz(circuit_u=circuit_u, bitstrings_u=reduced_bitstrings)\n",
    "\n",
    "ansatz.circuit_u.draw()"
   ]
  },
  {
   "cell_type": "markdown",
   "metadata": {},
   "source": [
    "From here, the problem can be solved following the same steps as in the [tutorials](../../tutorials/entanglement_forging/index.rst)."
   ]
  },
  {
   "cell_type": "code",
   "execution_count": 10,
   "metadata": {},
   "outputs": [
    {
     "data": {
      "text/html": [
       "<h3>Version Information</h3><table><tr><th>Qiskit Software</th><th>Version</th></tr><tr><td><code>qiskit-terra</code></td><td>0.22.0</td></tr><tr><td><code>qiskit-aer</code></td><td>0.11.0</td></tr><tr><td><code>qiskit-ignis</code></td><td>0.7.1</td></tr><tr><td><code>qiskit-ibmq-provider</code></td><td>0.19.2</td></tr><tr><td><code>qiskit-nature</code></td><td>0.4.5</td></tr><tr><th>System information</th></tr><tr><td>Python version</td><td>3.9.7</td></tr><tr><td>Python compiler</td><td>GCC 7.5.0</td></tr><tr><td>Python build</td><td>default, Sep 16 2021 13:09:58</td></tr><tr><td>OS</td><td>Linux</td></tr><tr><td>CPUs</td><td>6</td></tr><tr><td>Memory (Gb)</td><td>30.943462371826172</td></tr><tr><td colspan='2'>Wed Oct 26 13:40:28 2022 EDT</td></tr></table>"
      ],
      "text/plain": [
       "<IPython.core.display.HTML object>"
      ]
     },
     "metadata": {},
     "output_type": "display_data"
    }
   ],
   "source": [
    "import qiskit.tools.jupyter\n",
    "\n",
    "%qiskit_version_table"
   ]
  },
  {
   "cell_type": "markdown",
   "metadata": {},
   "source": [
    "### This code is a Qiskit project.\n",
    "\n",
    "© Copyright IBM 2022.\n",
    "\n",
    "This code is licensed under the Apache License, Version 2.0. You may\n",
    "obtain a copy of this license in the LICENSE.txt file in the root directory\n",
    "of this source tree or at http://www.apache.org/licenses/LICENSE-2.0.\n",
    "\n",
    "Any modifications or derivative works of this code must retain this\n",
    "copyright notice, and modified files need to carry a notice indicating\n",
    "that they have been altered from the originals."
   ]
  }
 ],
 "metadata": {
  "kernelspec": {
   "display_name": "Python 3 (ipykernel)",
   "language": "python",
   "name": "python3"
  },
  "language_info": {
   "codemirror_mode": {
    "name": "ipython",
    "version": 3
   },
   "file_extension": ".py",
   "mimetype": "text/x-python",
   "name": "python",
   "nbconvert_exporter": "python",
   "pygments_lexer": "ipython3",
   "version": "3.7.13"
  },
  "vscode": {
   "interpreter": {
    "hash": "987cdf5eeb33585dc719bb9ff4378c2f5c2124692c306f8bea7b3d839af38946"
   }
  }
 },
 "nbformat": 4,
 "nbformat_minor": 4
}
